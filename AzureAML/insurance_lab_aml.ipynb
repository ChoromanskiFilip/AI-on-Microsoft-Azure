{
  "cells": [
    {
      "cell_type": "markdown",
      "source": [
        "# Azure Machine Learning - Automated (Auto) ML\r\n",
        "\r\n",
        "## Use case\r\n",
        "Wyznaczanie ceny ubezpieczenia osoby dla której posiadamy następujące dane:\r\n",
        "- region zamieszkania - *region*\r\n",
        "- płeć - *sex*\r\n",
        "- wiek - *age*\r\n",
        "- BMI (body mass index) - *bmi*\r\n",
        "- osoba paląca/nie paląca - *smoker*\r\n",
        "- liczba dzieci - *children*\r\n",
        "Do tego celu należy stworzyć model regresji w oparciu o cechy wymienione powyżej oraz ceny ubezpieczeń.\r\n",
        "\r\n",
        "## Stworzenie zasobu w Azure\r\n",
        "W celu rozpoczęnia pracy z AutoML należy stworzyć zasób za pośrednictwem strony [portal.azure.com](https://portal.azure.com).\r\n",
        "1. Otwórz stronie [portal.azure.com](https://portal.azure.com)\r\n",
        "1. Wybierz opcji ***Create resource***\r\n",
        "1. Wyszukaj ***Machine learning***\r\n",
        "1. Utwórz zasób\r\n",
        "\r\n",
        "## Stworzenie Workspace'a\r\n",
        "Kolejnym krokiem jest stworzenia Workspace'a, czyli przestrzeni, w której będziemy przeprowadzali nasze eksperymenty.\r\n",
        "1. Udaj się na stronę [ml.azure.com](https://ml.azure.com/)\r\n",
        "2. Wybierz opcję ***Create new workspace***\r\n",
        "\r\n",
        "\r\n",
        "## Dodanie Dataset'u\r\n",
        "Przed przystąpieniem do pracy nad modelem musimy na początku wgrać dane do naszego Workspace'a.\r\n",
        "W tym celu należy przejść do zakładki Dataset, która jest widoczna na pasku nawigacyjnym po lewej stronie.\r\n",
        "1. Wybierz ***Create dataset > From local files***\r\n",
        "1. Nadaj nazwę dla zbioru danych i wybierz typ Tabular - aby wgrać plik CSV\r\n",
        "1. Naciśnij ***Browse*** i znajdź plik z danymi na dysku\r\n",
        "1. Następnie dostosuj ustawienia związane z formatem pliku\r\n",
        "1. Na końcu zatwierdź"
      ],
      "metadata": {
        "nteract": {
          "transient": {
            "deleting": false
          }
        }
      }
    },
    {
      "cell_type": "markdown",
      "source": [
        "## Praca nad Notebookiem \r\n",
        "\r\n",
        "### Inicjalizacja Workspace'a\r\n",
        "Pierwszy etap pracy z notebookiem AML to inicjalizacja przestrzeni w której będziemy pracować, w tym celu będziemy musieli się zalogować do konta Azure. Po przez Workspace mamy dostęp między innymi do zapisanych zbiorów danych bądź też wytrenowanych wcześniej modeli."
      ],
      "metadata": {
        "nteract": {
          "transient": {
            "deleting": false
          }
        }
      }
    },
    {
      "cell_type": "code",
      "source": [
        "import azureml.core\r\n",
        "\r\n",
        "print(\"SDK version:\", azureml.core.VERSION)"
      ],
      "outputs": [
        {
          "output_type": "stream",
          "name": "stdout",
          "text": [
            "SDK version: 1.21.0\n"
          ]
        }
      ],
      "execution_count": 1,
      "metadata": {
        "gather": {
          "logged": 1611681222118
        }
      }
    },
    {
      "cell_type": "markdown",
      "source": [
        "### Wczytanie danych\r\n",
        "Na początku musimy wczytać zbiór danych, który został uprzednio dodany do workspace'u."
      ],
      "metadata": {
        "nteract": {
          "transient": {
            "deleting": false
          }
        }
      }
    },
    {
      "cell_type": "code",
      "source": [
        "# azureml-core of version 1.0.72 or higher is required\r\n",
        "from azureml.core import Workspace, Dataset\r\n",
        "\r\n",
        "# Get Workspace defined in by default config.json file\r\n",
        "ws = Workspace.from_config()"
      ],
      "outputs": [],
      "execution_count": 3,
      "metadata": {
        "collapsed": true,
        "jupyter": {
          "source_hidden": false,
          "outputs_hidden": false
        },
        "nteract": {
          "transient": {
            "deleting": false
          }
        },
        "gather": {
          "logged": 1611681243335
        }
      }
    },
    {
      "cell_type": "code",
      "source": [
        "dataset = Dataset.get_by_name(ws, name='insurance')\r\n",
        "full_df = dataset.to_pandas_dataframe()\r\n",
        "full_df.head()"
      ],
      "outputs": [
        {
          "output_type": "execute_result",
          "execution_count": 5,
          "data": {
            "text/plain": "   age     sex     bmi  children smoker     region      charges\n0   19  female  27.900         0    yes  southwest  16884.92400\n1   18    male  33.770         1     no  southeast   1725.55230\n2   28    male  33.000         3     no  southeast   4449.46200\n3   33    male  22.705         0     no  northwest  21984.47061\n4   32    male  28.880         0     no  northwest   3866.85520",
            "text/html": "<div>\n<style scoped>\n    .dataframe tbody tr th:only-of-type {\n        vertical-align: middle;\n    }\n\n    .dataframe tbody tr th {\n        vertical-align: top;\n    }\n\n    .dataframe thead th {\n        text-align: right;\n    }\n</style>\n<table border=\"1\" class=\"dataframe\">\n  <thead>\n    <tr style=\"text-align: right;\">\n      <th></th>\n      <th>age</th>\n      <th>sex</th>\n      <th>bmi</th>\n      <th>children</th>\n      <th>smoker</th>\n      <th>region</th>\n      <th>charges</th>\n    </tr>\n  </thead>\n  <tbody>\n    <tr>\n      <th>0</th>\n      <td>19</td>\n      <td>female</td>\n      <td>27.900</td>\n      <td>0</td>\n      <td>yes</td>\n      <td>southwest</td>\n      <td>16884.92400</td>\n    </tr>\n    <tr>\n      <th>1</th>\n      <td>18</td>\n      <td>male</td>\n      <td>33.770</td>\n      <td>1</td>\n      <td>no</td>\n      <td>southeast</td>\n      <td>1725.55230</td>\n    </tr>\n    <tr>\n      <th>2</th>\n      <td>28</td>\n      <td>male</td>\n      <td>33.000</td>\n      <td>3</td>\n      <td>no</td>\n      <td>southeast</td>\n      <td>4449.46200</td>\n    </tr>\n    <tr>\n      <th>3</th>\n      <td>33</td>\n      <td>male</td>\n      <td>22.705</td>\n      <td>0</td>\n      <td>no</td>\n      <td>northwest</td>\n      <td>21984.47061</td>\n    </tr>\n    <tr>\n      <th>4</th>\n      <td>32</td>\n      <td>male</td>\n      <td>28.880</td>\n      <td>0</td>\n      <td>no</td>\n      <td>northwest</td>\n      <td>3866.85520</td>\n    </tr>\n  </tbody>\n</table>\n</div>"
          },
          "metadata": {}
        }
      ],
      "execution_count": 5,
      "metadata": {
        "collapsed": true,
        "jupyter": {
          "source_hidden": false,
          "outputs_hidden": false
        },
        "nteract": {
          "transient": {
            "deleting": false
          }
        },
        "gather": {
          "logged": 1611681259730
        }
      }
    },
    {
      "cell_type": "code",
      "source": [
        "full_df.info()"
      ],
      "outputs": [
        {
          "output_type": "stream",
          "name": "stdout",
          "text": [
            "<class 'pandas.core.frame.DataFrame'>\n",
            "RangeIndex: 1338 entries, 0 to 1337\n",
            "Data columns (total 7 columns):\n",
            "age         1338 non-null int64\n",
            "sex         1338 non-null object\n",
            "bmi         1338 non-null float64\n",
            "children    1338 non-null int64\n",
            "smoker      1338 non-null object\n",
            "region      1338 non-null object\n",
            "charges     1338 non-null float64\n",
            "dtypes: float64(2), int64(2), object(3)\n",
            "memory usage: 73.3+ KB\n"
          ]
        }
      ],
      "execution_count": 6,
      "metadata": {
        "collapsed": true,
        "jupyter": {
          "source_hidden": false,
          "outputs_hidden": false
        },
        "nteract": {
          "transient": {
            "deleting": false
          }
        },
        "gather": {
          "logged": 1611681265425
        }
      }
    },
    {
      "cell_type": "markdown",
      "source": [
        "### Przygotowanie zbioru danych\r\n",
        "Kolejnym krokiem będzie przygotowanie zbioru danych tak aby lepiej nadawał się on do wytrenowania modelu regresji. W tym celu dokonano nastepujących modyfikacji:\r\n",
        "- zmiana formatu danych dla kolumny *smoker* \r\n",
        "    - przed: string 'yes'/'no'\r\n",
        "    - po: int 1/0\r\n",
        "    - nowa nazwa kolumny: *smoker_num*\r\n",
        "- zmiana formatu danych dla kolumny *sex* \r\n",
        "    - przed: string 'female'/'male'\r\n",
        "    - po: int 1/2\r\n",
        "    - nowa nazwa kolumny: *sex_num*\r\n",
        "- zmiana formatu danych dla kolumny *region* \r\n",
        "    - przed: string - 4 różne wartości\r\n",
        "    - po: int z przedzialu 1-4\r\n",
        "    - nowa nazwa kolumny: *region_num*"
      ],
      "metadata": {
        "nteract": {
          "transient": {
            "deleting": false
          }
        }
      }
    },
    {
      "cell_type": "code",
      "source": [
        "full_df['smoker_num'] = full_df['smoker'].apply(lambda x: 1 if x == 'yes' else 0)\r\n",
        "full_df['sex_num'] = full_df['sex'].apply(lambda x: 1 if x == 'male' else 2)\r\n",
        "region_mapping = {region: idx + 1 for idx, region in enumerate(full_df['region'].unique())}\r\n",
        "full_df['region_num'] = full_df['region'].apply(lambda x: region_mapping[x])\r\n",
        "num_features = [name for name, type in full_df.dtypes.iteritems() if type == 'int64' or type == 'float64']\r\n",
        "\r\n",
        "cleared_dataset = Dataset.Tabular.register_pandas_dataframe(full_df[num_features],  (ws.get_default_datastore(), 'insurance/'), 'insurance_cleaned')\r\n",
        "full_df.info()\r\n",
        "print(f'\\n\\nNumerical features: {num_features}\\nwill be used for regression.')"
      ],
      "outputs": [
        {
          "output_type": "stream",
          "name": "stderr",
          "text": [
            "Method register_pandas_dataframe: This is an experimental method, and may change at any time.<br/>For more information, see https://aka.ms/azuremlexperimental.\n"
          ]
        },
        {
          "output_type": "stream",
          "name": "stdout",
          "text": [
            "Validating arguments.\n",
            "Arguments validated.\n",
            "Successfully obtained datastore reference and path.\n",
            "Uploading file to insurance//15cf5ba5-458e-4f2c-9d97-d83d245238f7/\n",
            "Successfully uploaded file to datastore.\n",
            "Creating and registering a new dataset.\n",
            "Successfully created and registered a new dataset.\n",
            "<class 'pandas.core.frame.DataFrame'>\n",
            "RangeIndex: 1338 entries, 0 to 1337\n",
            "Data columns (total 10 columns):\n",
            "age           1338 non-null int64\n",
            "sex           1338 non-null object\n",
            "bmi           1338 non-null float64\n",
            "children      1338 non-null int64\n",
            "smoker        1338 non-null object\n",
            "region        1338 non-null object\n",
            "charges       1338 non-null float64\n",
            "smoker_num    1338 non-null int64\n",
            "sex_num       1338 non-null int64\n",
            "region_num    1338 non-null int64\n",
            "dtypes: float64(2), int64(5), object(3)\n",
            "memory usage: 104.7+ KB\n",
            "\n",
            "\n",
            "Numerical features: ['age', 'bmi', 'children', 'charges', 'smoker_num', 'sex_num', 'region_num']\n",
            "will be used for regression.\n"
          ]
        }
      ],
      "execution_count": 7,
      "metadata": {
        "collapsed": true,
        "jupyter": {
          "source_hidden": false,
          "outputs_hidden": false
        },
        "nteract": {
          "transient": {
            "deleting": false
          }
        },
        "gather": {
          "logged": 1611681272228
        }
      }
    },
    {
      "cell_type": "markdown",
      "source": [
        "### Zapisanie nowego zbioru danych\r\n",
        "Tak przygotowany, nowy zbiór danych został zapisany do Workspace'a tak aby mógł posłużyć do kolejnych eksperymentów.\r\n",
        "Kolumny w nowym zbiorze danych:\r\n",
        "- age\r\n",
        "- bmi\r\n",
        "- children\r\n",
        "- charges\r\n",
        "- smoker_num\r\n",
        "- sex_num\r\n",
        "- region_num"
      ],
      "metadata": {
        "nteract": {
          "transient": {
            "deleting": false
          }
        }
      }
    },
    {
      "cell_type": "markdown",
      "source": [
        "### Statysyki opisowe nowego zbioru danych\r\n",
        "Przedstawienie statystyk nowe opisowych nowego zbioru danych"
      ],
      "metadata": {
        "nteract": {
          "transient": {
            "deleting": false
          }
        }
      }
    },
    {
      "cell_type": "code",
      "source": [
        "cleaned_dataset = Dataset.get_by_name(ws, name='insurance_cleaned')\r\n",
        "cleaned_df = cleaned_dataset.to_pandas_dataframe()\r\n",
        "cleaned_df.describe()"
      ],
      "outputs": [
        {
          "output_type": "execute_result",
          "execution_count": 8,
          "data": {
            "text/plain": "               age          bmi     children       charges   smoker_num  \\\ncount  1338.000000  1338.000000  1338.000000   1338.000000  1338.000000   \nmean     39.207025    30.663397     1.094918  13270.422265     0.204783   \nstd      14.049960     6.098187     1.205493  12110.011237     0.403694   \nmin      18.000000    15.960000     0.000000   1121.873900     0.000000   \n25%      27.000000    26.296250     0.000000   4740.287150     0.000000   \n50%      39.000000    30.400000     1.000000   9382.033000     0.000000   \n75%      51.000000    34.693750     2.000000  16639.912515     0.000000   \nmax      64.000000    53.130000     5.000000  63770.428010     1.000000   \n\n           sex_num   region_num  \ncount  1338.000000  1338.000000  \nmean      1.494768     2.484305  \nstd       0.500160     1.104885  \nmin       1.000000     1.000000  \n25%       1.000000     2.000000  \n50%       1.000000     2.000000  \n75%       2.000000     3.000000  \nmax       2.000000     4.000000  ",
            "text/html": "<div>\n<style scoped>\n    .dataframe tbody tr th:only-of-type {\n        vertical-align: middle;\n    }\n\n    .dataframe tbody tr th {\n        vertical-align: top;\n    }\n\n    .dataframe thead th {\n        text-align: right;\n    }\n</style>\n<table border=\"1\" class=\"dataframe\">\n  <thead>\n    <tr style=\"text-align: right;\">\n      <th></th>\n      <th>age</th>\n      <th>bmi</th>\n      <th>children</th>\n      <th>charges</th>\n      <th>smoker_num</th>\n      <th>sex_num</th>\n      <th>region_num</th>\n    </tr>\n  </thead>\n  <tbody>\n    <tr>\n      <th>count</th>\n      <td>1338.000000</td>\n      <td>1338.000000</td>\n      <td>1338.000000</td>\n      <td>1338.000000</td>\n      <td>1338.000000</td>\n      <td>1338.000000</td>\n      <td>1338.000000</td>\n    </tr>\n    <tr>\n      <th>mean</th>\n      <td>39.207025</td>\n      <td>30.663397</td>\n      <td>1.094918</td>\n      <td>13270.422265</td>\n      <td>0.204783</td>\n      <td>1.494768</td>\n      <td>2.484305</td>\n    </tr>\n    <tr>\n      <th>std</th>\n      <td>14.049960</td>\n      <td>6.098187</td>\n      <td>1.205493</td>\n      <td>12110.011237</td>\n      <td>0.403694</td>\n      <td>0.500160</td>\n      <td>1.104885</td>\n    </tr>\n    <tr>\n      <th>min</th>\n      <td>18.000000</td>\n      <td>15.960000</td>\n      <td>0.000000</td>\n      <td>1121.873900</td>\n      <td>0.000000</td>\n      <td>1.000000</td>\n      <td>1.000000</td>\n    </tr>\n    <tr>\n      <th>25%</th>\n      <td>27.000000</td>\n      <td>26.296250</td>\n      <td>0.000000</td>\n      <td>4740.287150</td>\n      <td>0.000000</td>\n      <td>1.000000</td>\n      <td>2.000000</td>\n    </tr>\n    <tr>\n      <th>50%</th>\n      <td>39.000000</td>\n      <td>30.400000</td>\n      <td>1.000000</td>\n      <td>9382.033000</td>\n      <td>0.000000</td>\n      <td>1.000000</td>\n      <td>2.000000</td>\n    </tr>\n    <tr>\n      <th>75%</th>\n      <td>51.000000</td>\n      <td>34.693750</td>\n      <td>2.000000</td>\n      <td>16639.912515</td>\n      <td>0.000000</td>\n      <td>2.000000</td>\n      <td>3.000000</td>\n    </tr>\n    <tr>\n      <th>max</th>\n      <td>64.000000</td>\n      <td>53.130000</td>\n      <td>5.000000</td>\n      <td>63770.428010</td>\n      <td>1.000000</td>\n      <td>2.000000</td>\n      <td>4.000000</td>\n    </tr>\n  </tbody>\n</table>\n</div>"
          },
          "metadata": {}
        }
      ],
      "execution_count": 8,
      "metadata": {
        "collapsed": true,
        "jupyter": {
          "source_hidden": false,
          "outputs_hidden": false
        },
        "nteract": {
          "transient": {
            "deleting": false
          }
        },
        "gather": {
          "logged": 1611681277307
        }
      }
    },
    {
      "cell_type": "markdown",
      "source": [
        "### Podział zbioru\r\n",
        "Wydzielenie ze zbioru zawierającego wszystkie rekordy 2 podzbiory:\r\n",
        "- treningowy - służący do nauczenia modelu\r\n",
        "- testowy - służący do sprawdzenia skuteczności działania nauczonego modelu"
      ],
      "metadata": {
        "nteract": {
          "transient": {
            "deleting": false
          }
        }
      }
    },
    {
      "cell_type": "code",
      "source": [
        "train_dataset, test_dataset = cleaned_dataset.random_split(0.7, seed=1)\r\n",
        "\r\n",
        "# Use Pandas DF only to check the data\r\n",
        "train_dataset_df = train_dataset.to_pandas_dataframe()\r\n",
        "test_dataset_df = test_dataset.to_pandas_dataframe()\r\n",
        "\r\n",
        "print(f\"train_dataset_df rows: {len(train_dataset_df.index)}\")\r\n",
        "print(f\"test_dataset_df rows: {len(test_dataset_df.index)}\")"
      ],
      "outputs": [
        {
          "output_type": "stream",
          "name": "stdout",
          "text": [
            "train_dataset_df rows: 965\n",
            "test_dataset_df rows: 373\n"
          ]
        }
      ],
      "execution_count": 9,
      "metadata": {
        "collapsed": true,
        "jupyter": {
          "source_hidden": false,
          "outputs_hidden": false
        },
        "nteract": {
          "transient": {
            "deleting": false
          }
        },
        "gather": {
          "logged": 1611681288209
        }
      }
    },
    {
      "cell_type": "code",
      "source": [
        "train_dataset_df.head()"
      ],
      "outputs": [
        {
          "output_type": "execute_result",
          "execution_count": 10,
          "data": {
            "text/plain": "   age     bmi  children      charges  smoker_num  sex_num  region_num\n0   19  27.900         0  16884.92400           1        2           1\n1   28  33.000         3   4449.46200           0        1           2\n2   33  22.705         0  21984.47061           0        1           3\n3   31  25.740         0   3756.62160           0        2           2\n4   37  27.740         3   7281.50560           0        2           3",
            "text/html": "<div>\n<style scoped>\n    .dataframe tbody tr th:only-of-type {\n        vertical-align: middle;\n    }\n\n    .dataframe tbody tr th {\n        vertical-align: top;\n    }\n\n    .dataframe thead th {\n        text-align: right;\n    }\n</style>\n<table border=\"1\" class=\"dataframe\">\n  <thead>\n    <tr style=\"text-align: right;\">\n      <th></th>\n      <th>age</th>\n      <th>bmi</th>\n      <th>children</th>\n      <th>charges</th>\n      <th>smoker_num</th>\n      <th>sex_num</th>\n      <th>region_num</th>\n    </tr>\n  </thead>\n  <tbody>\n    <tr>\n      <th>0</th>\n      <td>19</td>\n      <td>27.900</td>\n      <td>0</td>\n      <td>16884.92400</td>\n      <td>1</td>\n      <td>2</td>\n      <td>1</td>\n    </tr>\n    <tr>\n      <th>1</th>\n      <td>28</td>\n      <td>33.000</td>\n      <td>3</td>\n      <td>4449.46200</td>\n      <td>0</td>\n      <td>1</td>\n      <td>2</td>\n    </tr>\n    <tr>\n      <th>2</th>\n      <td>33</td>\n      <td>22.705</td>\n      <td>0</td>\n      <td>21984.47061</td>\n      <td>0</td>\n      <td>1</td>\n      <td>3</td>\n    </tr>\n    <tr>\n      <th>3</th>\n      <td>31</td>\n      <td>25.740</td>\n      <td>0</td>\n      <td>3756.62160</td>\n      <td>0</td>\n      <td>2</td>\n      <td>2</td>\n    </tr>\n    <tr>\n      <th>4</th>\n      <td>37</td>\n      <td>27.740</td>\n      <td>3</td>\n      <td>7281.50560</td>\n      <td>0</td>\n      <td>2</td>\n      <td>3</td>\n    </tr>\n  </tbody>\n</table>\n</div>"
          },
          "metadata": {}
        }
      ],
      "execution_count": 10,
      "metadata": {
        "collapsed": true,
        "jupyter": {
          "source_hidden": false,
          "outputs_hidden": false
        },
        "nteract": {
          "transient": {
            "deleting": false
          }
        },
        "gather": {
          "logged": 1611681293992
        }
      }
    },
    {
      "cell_type": "markdown",
      "source": [
        "### Wczytanie jednostki obliczeniowej\r\n",
        "Przed przystąpieniem do trenowania modelu należy na początku wczytać zasób obliczeniowy, na którym uruchomiony zostanie proces uczenia."
      ],
      "metadata": {
        "nteract": {
          "transient": {
            "deleting": false
          }
        }
      }
    },
    {
      "cell_type": "code",
      "source": [
        "from azureml.core.compute import AmlCompute\r\n",
        "from azureml.core.compute import ComputeTarget\r\n",
        "\r\n",
        "ComputeTarget.list(ws)"
      ],
      "outputs": [
        {
          "output_type": "execute_result",
          "execution_count": 11,
          "data": {
            "text/plain": "[AmlCompute(workspace=Workspace.create(name='insurance', subscription_id='23996c96-391e-45b6-a56c-4d58cc49b763', resource_group='lab-automl'), name=salarySF, id=/subscriptions/23996c96-391e-45b6-a56c-4d58cc49b763/resourceGroups/lab-automl/providers/Microsoft.MachineLearningServices/workspaces/insurance/computes/salarySF, type=AmlCompute, provisioning_state=Failed, location=northeurope, tags=None),\n {\n   \"id\": \"/subscriptions/23996c96-391e-45b6-a56c-4d58cc49b763/resourceGroups/lab-automl/providers/Microsoft.MachineLearningServices/workspaces/insurance/computes/Compute-StandardDS2v2\",\n   \"name\": \"Compute-StandardDS2v2\",\n   \"location\": \"northeurope\",\n   \"tags\": null,\n   \"properties\": {\n     \"description\": null,\n     \"computeType\": \"ComputeInstance\",\n     \"computeLocation\": \"northeurope\",\n     \"resourceId\": null,\n     \"provisioningErrors\": null,\n     \"provisioningState\": \"Succeeded\",\n     \"properties\": {\n       \"vmSize\": \"STANDARD_DS2_V2\",\n       \"applications\": [\n         {\n           \"displayName\": \"Jupyter\",\n           \"endpointUri\": \"https://compute-standardds2v2.northeurope.instances.azureml.ms\"\n         },\n         {\n           \"displayName\": \"Jupyter Lab\",\n           \"endpointUri\": \"https://compute-standardds2v2.northeurope.instances.azureml.ms/lab\"\n         },\n         {\n           \"displayName\": \"RStudio\",\n           \"endpointUri\": \"https://compute-standardds2v2-8787.northeurope.instances.azureml.ms\"\n         }\n       ],\n       \"connectivityEndpoints\": {\n         \"publicIpAddress\": \"20.191.54.250\",\n         \"privateIpAddress\": \"10.0.0.5\"\n       },\n       \"sshSettings\": {\n         \"sshPublicAccess\": \"Disabled\",\n         \"adminUserName\": \"azureuser\",\n         \"adminPublicKey\": null,\n         \"sshPort\": 4001\n       },\n       \"personalComputeInstanceSettings\": null,\n       \"subnet\": {\n         \"id\": null\n       },\n       \"errors\": []\n     },\n     \"status\": {\n       \"errors\": [],\n       \"creationTime\": \"2021-01-25T20:35:51.015786+00:00\",\n       \"createdBy\": {\n         \"userObjectId\": \"846dc3cf-0bbd-47a9-82b1-0594828f9703\",\n         \"userTenantId\": \"5ebebf09-ce94-40c1-89d6-13dd65b57f0c\",\n         \"userName\": \"Filip Choromanski\"\n       },\n       \"modifiedTime\": \"2021-01-25T20:39:07.613245+00:00\",\n       \"state\": \"Running\",\n       \"vmSize\": \"STANDARD_DS2_V2\"\n     }\n   }\n }]"
          },
          "metadata": {}
        }
      ],
      "execution_count": 11,
      "metadata": {
        "collapsed": true,
        "jupyter": {
          "source_hidden": false,
          "outputs_hidden": false
        },
        "nteract": {
          "transient": {
            "deleting": false
          }
        },
        "gather": {
          "logged": 1611681305010
        }
      }
    },
    {
      "cell_type": "code",
      "source": [
        "# Define remote compute target to use\r\n",
        "# Further docs on Remote Compute Target: https://docs.microsoft.com/en-us/azure/machine-learning/how-to-auto-train-remote\r\n",
        "\r\n",
        "# Choose a name for your cluster.\r\n",
        "amlcompute_cluster_name = \"Compute-StandardDS2v2\"\r\n",
        "\r\n",
        "found = False\r\n",
        "# Check if this compute target already exists in the workspace.\r\n",
        "cts = ws.compute_targets\r\n",
        "\r\n",
        "if amlcompute_cluster_name in cts and cts[amlcompute_cluster_name].type == 'ComputeInstance':\r\n",
        "     found = True\r\n",
        "     print('Found existing training cluster.')\r\n",
        "     # Get existing cluster\r\n",
        "     # Method 1:\r\n",
        "     aml_remote_compute = cts[amlcompute_cluster_name]\r\n",
        "     # Method 2:\r\n",
        "     # aml_remote_compute = ComputeTarget(ws, amlcompute_cluster_name)\r\n",
        "    \r\n",
        "if not found:\r\n",
        "     print('Creating a new training cluster...')\r\n",
        "     provisioning_config = AmlCompute.provisioning_configuration(vm_size = \"STANDARD_D13_V2\", # for GPU, use \"STANDARD_NC12\"\r\n",
        "                                                                 #vm_priority = 'lowpriority', # optional\r\n",
        "                                                                 max_nodes = 20)\r\n",
        "     # Create the cluster.\r\n",
        "     aml_remote_compute = ComputeTarget.create(ws, amlcompute_cluster_name, provisioning_config)\r\n",
        "    \r\n",
        "print('Checking cluster status...')\r\n",
        "# Can poll for a minimum number of nodes and for a specific timeout.\r\n",
        "# If no min_node_count is provided, it will use the scale settings for the cluster.\r\n",
        "aml_remote_compute.wait_for_completion(show_output = True)"
      ],
      "outputs": [
        {
          "output_type": "stream",
          "name": "stdout",
          "text": [
            "Found existing training cluster.\n",
            "Checking cluster status...\n",
            "\n",
            "Running\n"
          ]
        }
      ],
      "execution_count": 12,
      "metadata": {
        "collapsed": true,
        "jupyter": {
          "source_hidden": false,
          "outputs_hidden": false
        },
        "nteract": {
          "transient": {
            "deleting": false
          }
        },
        "gather": {
          "logged": 1611681318331
        }
      }
    },
    {
      "cell_type": "code",
      "source": [
        "from azureml.train import automl\r\n",
        "\r\n",
        "# List of possible primary metrics is here:\r\n",
        "# https://docs.microsoft.com/en-us/azure/machine-learning/how-to-configure-auto-train#primary-metric\r\n",
        "    \r\n",
        "# Get a list of valid metrics for your given task\r\n",
        "automl.utilities.get_primary_metrics('regression')"
      ],
      "outputs": [
        {
          "output_type": "execute_result",
          "execution_count": 13,
          "data": {
            "text/plain": "['normalized_root_mean_squared_error',\n 'r2_score',\n 'spearman_correlation',\n 'normalized_mean_absolute_error']"
          },
          "metadata": {}
        }
      ],
      "execution_count": 13,
      "metadata": {
        "collapsed": true,
        "jupyter": {
          "source_hidden": false,
          "outputs_hidden": false
        },
        "nteract": {
          "transient": {
            "deleting": false
          }
        },
        "gather": {
          "logged": 1611681325482
        }
      }
    },
    {
      "cell_type": "markdown",
      "source": [
        "### Konfiguracja procesu uczenia\r\n",
        "Kolejnym krokiem jest skonfigurowanie procesu uczenia. W tym miejsu ustawiamy między innymi:\r\n",
        "- typ procesu uczenia: regresja/klasyfikacja\r\n",
        "- metrykę, która ma podlegać minimalizacji\r\n",
        "- maksymalny czas trwania procesu uczenia\r\n",
        "- wcześniej wczytany lub przygotowany zbiór treningowy\r\n",
        "- nazwę kolumny, którą wyznaczać ma nasz model regresji\r\n",
        "- ilość walidacji podzbiorów wykorzystanych w walidacji krzyżowej"
      ],
      "metadata": {
        "nteract": {
          "transient": {
            "deleting": false
          }
        }
      }
    },
    {
      "cell_type": "code",
      "source": [
        "import logging\r\n",
        "import os\r\n",
        "# You can provide additional settings as a **kwargs parameter for the AutoMLConfig object\r\n",
        "# automl_settings = {\r\n",
        "#     \"whitelist_models\": 'XGBoostClassifier'\r\n",
        "# }\r\n",
        "\r\n",
        "from azureml.train.automl import AutoMLConfig\r\n",
        "\r\n",
        "project_folder = './automl'\r\n",
        "os.makedirs(project_folder, exist_ok=True)\r\n",
        "\r\n",
        "automl_config = AutoMLConfig(compute_target=aml_remote_compute,\r\n",
        "                             task='regression',\r\n",
        "                             primary_metric='r2_score',\r\n",
        "                             experiment_timeout_minutes=30,                            \r\n",
        "                             training_data=train_dataset,\r\n",
        "                             label_column_name=\"charges\",\r\n",
        "                             n_cross_validations=5,\r\n",
        "                             enable_early_stopping=True,\r\n",
        "                             featurization='auto',\r\n",
        "                             debug_log='automated_ml_errors.log',\r\n",
        "                             verbosity=logging.INFO,\r\n",
        "                             path=project_folder\r\n",
        "                             # **automl_settings\r\n",
        "                             )\r\n",
        "\r\n",
        "# PaperCut?: Why is drop_column_names only supported by Time Series Forecast? - If used for classification, you get:\r\n",
        "# drop_column_names= ['EmployeeCount','EmployeeNumber','Over18','StandardHours'], # Clean up dataset by dropping not needed columns\r\n",
        "# WARNING - Received unrecognized parameter: drop_column_names ['EmployeeCount', 'EmployeeNumber', 'Over18', 'StandardHours']\r\n",
        "# In documentation it doesn't state that it is only supported for Forecast...:\r\n",
        "# https://docs.microsoft.com/en-us/python/api/azureml-train-automl-client/azureml.train.automl.automlconfig.automlconfig?view=azure-ml-py\r\n",
        "\r\n",
        "# Explanation of Settings: https://docs.microsoft.com/en-us/azure/machine-learning/how-to-configure-auto-train#configure-your-experiment-settings\r\n",
        "\r\n",
        "# AutoMLConfig info on: \r\n",
        "# https://docs.microsoft.com/en-us/python/api/azureml-train-automl-client/azureml.train.automl.automlconfig.automlconfig"
      ],
      "outputs": [],
      "execution_count": 24,
      "metadata": {
        "collapsed": true,
        "jupyter": {
          "source_hidden": false,
          "outputs_hidden": false
        },
        "nteract": {
          "transient": {
            "deleting": false
          }
        },
        "gather": {
          "logged": 1611684867643
        }
      }
    },
    {
      "cell_type": "markdown",
      "source": [
        "### Uruchomienie uczenia\r\n",
        "Następnie należy uruchomić wybieranie modelu zgodnie z wcześniej ustawioną konfiguracją."
      ],
      "metadata": {
        "nteract": {
          "transient": {
            "deleting": false
          }
        }
      }
    },
    {
      "cell_type": "code",
      "source": [
        "from azureml.core import Experiment\r\n",
        "from datetime import datetime\r\n",
        "\r\n",
        "now = datetime.now()\r\n",
        "time_string = now.strftime(\"%m-%d-%Y-%H\")\r\n",
        "experiment_name = \"classif-automl-remote-{0}\".format(time_string)\r\n",
        "print(experiment_name)\r\n",
        "\r\n",
        "experiment = Experiment(workspace=ws, name=experiment_name)\r\n",
        "\r\n",
        "import time\r\n",
        "start_time = time.time()\r\n",
        "            \r\n",
        "run = experiment.submit(automl_config, show_output=True)\r\n",
        "\r\n",
        "print('Manual run timing: --- %s seconds needed for running the whole Remote AutoML Experiment ---' % (time.time() - start_time))"
      ],
      "outputs": [
        {
          "output_type": "stream",
          "name": "stdout",
          "text": [
            "classif-automl-remote-01-26-2021-18\n",
            "Running on remote.\n",
            "No run_configuration provided, running on Compute-StandardDS2v2 with default configuration\n",
            "Running on remote compute: Compute-StandardDS2v2\n",
            "Parent Run ID: AutoML_59ba7ab4-e9ec-4d94-960e-d59b2ca57c03\n",
            "\n",
            "Current status: FeaturesGeneration. Generating features for the dataset.\n",
            "Current status: DatasetCrossValidationSplit. Generating individually featurized CV splits.\n",
            "Current status: ModelSelection. Beginning model selection.\n",
            "\n",
            "****************************************************************************************************\n",
            "DATA GUARDRAILS: \n",
            "\n",
            "TYPE:         Missing feature values imputation\n",
            "STATUS:       PASSED\n",
            "DESCRIPTION:  No feature missing values were detected in the training data.\n",
            "              Learn more about missing value imputation: https://aka.ms/AutomatedMLFeaturization\n",
            "\n",
            "****************************************************************************************************\n",
            "\n",
            "TYPE:         High cardinality feature detection\n",
            "STATUS:       PASSED\n",
            "DESCRIPTION:  Your inputs were analyzed, and no high cardinality features were detected.\n",
            "              Learn more about high cardinality feature handling: https://aka.ms/AutomatedMLFeaturization\n",
            "\n",
            "****************************************************************************************************\n",
            "\n",
            "****************************************************************************************************\n",
            "ITERATION: The iteration being evaluated.\n",
            "PIPELINE: A summary description of the pipeline being evaluated.\n",
            "DURATION: Time taken for the current iteration.\n",
            "METRIC: The result of computing score on the fitted pipeline.\n",
            "BEST: The best observed score thus far.\n",
            "****************************************************************************************************\n",
            "\n",
            " ITERATION   PIPELINE                                       DURATION      METRIC      BEST\n",
            "         0   MaxAbsScaler LightGBM                          0:00:40       0.7444    0.7444\n",
            "         1   MaxAbsScaler XGBoostRegressor                  0:00:43       0.8226    0.8226\n",
            "         2   SparseNormalizer XGBoostRegressor              0:01:07       0.7957    0.8226\n",
            "         3   MaxAbsScaler RandomForest                      0:00:51       0.8095    0.8226\n",
            "         4   StandardScalerWrapper XGBoostRegressor         0:00:48       0.7811    0.8226\n",
            "         5   MaxAbsScaler ElasticNet                        0:00:48       0.7257    0.8226\n",
            "         6   MaxAbsScaler RandomForest                      0:00:51       0.7844    0.8226\n",
            "         7   StandardScalerWrapper XGBoostRegressor         0:00:46       0.8187    0.8226\n",
            "         8   MaxAbsScaler ExtremeRandomTrees                0:00:46       0.8077    0.8226\n",
            "         9   StandardScalerWrapper ElasticNet               0:00:48       0.7262    0.8226\n",
            "        10   MaxAbsScaler RandomForest                      0:00:55       0.7550    0.8226\n",
            "        11   MaxAbsScaler RandomForest                      0:00:39       0.7005    0.8226\n",
            "        12   StandardScalerWrapper XGBoostRegressor         0:00:42       0.8011    0.8226\n",
            "        13   MaxAbsScaler ExtremeRandomTrees                0:00:37       0.7867    0.8226\n"
          ]
        }
      ],
      "execution_count": 25,
      "metadata": {
        "collapsed": true,
        "jupyter": {
          "source_hidden": false,
          "outputs_hidden": false
        },
        "nteract": {
          "transient": {
            "deleting": false
          }
        },
        "gather": {
          "logged": 1611680355240
        }
      }
    },
    {
      "cell_type": "code",
      "source": [
        "from azureml.widgets import RunDetails\r\n",
        "RunDetails(run).show()"
      ],
      "outputs": [
        {
          "output_type": "display_data",
          "data": {
            "text/plain": "_AutoMLWidget(widget_settings={'childWidgetDisplay': 'popup', 'send_telemetry': False, 'log_level': 'INFO', 's…",
            "application/vnd.jupyter.widget-view+json": {
              "version_major": 2,
              "version_minor": 0,
              "model_id": "ea8d970f82cb4320850056e6359d888d"
            }
          },
          "metadata": {}
        },
        {
          "output_type": "display_data",
          "data": {
            "application/aml.mini.widget.v1": "{\"status\": \"Completed\", \"workbench_run_details_uri\": \"https://ml.azure.com/experiments/classif-automl-remote-01-26-2021-18/runs/AutoML_59ba7ab4-e9ec-4d94-960e-d59b2ca57c03?wsid=/subscriptions/23996c96-391e-45b6-a56c-4d58cc49b763/resourcegroups/lab-automl/workspaces/insurance\", \"run_id\": \"AutoML_59ba7ab4-e9ec-4d94-960e-d59b2ca57c03\", \"run_properties\": {\"run_id\": \"AutoML_59ba7ab4-e9ec-4d94-960e-d59b2ca57c03\", \"created_utc\": \"2021-01-26T18:14:36.445461Z\", \"properties\": {\"num_iterations\": \"1000\", \"training_type\": \"TrainFull\", \"acquisition_function\": \"EI\", \"primary_metric\": \"r2_score\", \"train_split\": \"0\", \"acquisition_parameter\": \"0\", \"num_cross_validation\": \"5\", \"target\": \"Compute-StandardDS2v2\", \"AMLSettingsJsonString\": \"{\\\"path\\\":null,\\\"name\\\":\\\"classif-automl-remote-01-26-2021-18\\\",\\\"subscription_id\\\":\\\"23996c96-391e-45b6-a56c-4d58cc49b763\\\",\\\"resource_group\\\":\\\"lab-automl\\\",\\\"workspace_name\\\":\\\"insurance\\\",\\\"region\\\":\\\"northeurope\\\",\\\"compute_target\\\":\\\"Compute-StandardDS2v2\\\",\\\"spark_service\\\":null,\\\"azure_service\\\":\\\"remote\\\",\\\"many_models\\\":false,\\\"pipeline_fetch_max_batch_size\\\":1,\\\"iterations\\\":1000,\\\"primary_metric\\\":\\\"r2_score\\\",\\\"task_type\\\":\\\"regression\\\",\\\"data_script\\\":null,\\\"validation_size\\\":0.0,\\\"n_cross_validations\\\":5,\\\"y_min\\\":null,\\\"y_max\\\":null,\\\"num_classes\\\":null,\\\"featurization\\\":\\\"auto\\\",\\\"_ignore_package_version_incompatibilities\\\":false,\\\"is_timeseries\\\":false,\\\"max_cores_per_iteration\\\":1,\\\"max_concurrent_iterations\\\":1,\\\"iteration_timeout_minutes\\\":null,\\\"mem_in_mb\\\":null,\\\"enforce_time_on_windows\\\":false,\\\"experiment_timeout_minutes\\\":30,\\\"experiment_exit_score\\\":null,\\\"whitelist_models\\\":null,\\\"blacklist_algos\\\":[\\\"TensorFlowDNN\\\",\\\"TensorFlowLinearRegressor\\\"],\\\"supported_models\\\":[\\\"OnlineGradientDescentRegressor\\\",\\\"FastLinearRegressor\\\",\\\"ElasticNet\\\",\\\"SGD\\\",\\\"XGBoostRegressor\\\",\\\"ExtremeRandomTrees\\\",\\\"TensorFlowDNN\\\",\\\"LassoLars\\\",\\\"DecisionTree\\\",\\\"TensorFlowLinearRegressor\\\",\\\"KNN\\\",\\\"RandomForest\\\",\\\"LightGBM\\\",\\\"GradientBoosting\\\"],\\\"auto_blacklist\\\":true,\\\"blacklist_samples_reached\\\":false,\\\"exclude_nan_labels\\\":true,\\\"verbosity\\\":20,\\\"_debug_log\\\":\\\"azureml_automl.log\\\",\\\"show_warnings\\\":false,\\\"model_explainability\\\":true,\\\"service_url\\\":null,\\\"sdk_url\\\":null,\\\"sdk_packages\\\":null,\\\"enable_onnx_compatible_models\\\":false,\\\"enable_split_onnx_featurizer_estimator_models\\\":false,\\\"vm_type\\\":\\\"STANDARD_DS2_V2\\\",\\\"telemetry_verbosity\\\":20,\\\"send_telemetry\\\":true,\\\"enable_dnn\\\":false,\\\"scenario\\\":\\\"SDK-1.13.0\\\",\\\"environment_label\\\":null,\\\"force_text_dnn\\\":false,\\\"enable_feature_sweeping\\\":true,\\\"enable_early_stopping\\\":true,\\\"early_stopping_n_iters\\\":10,\\\"metrics\\\":null,\\\"enable_ensembling\\\":true,\\\"enable_stack_ensembling\\\":true,\\\"ensemble_iterations\\\":15,\\\"enable_tf\\\":false,\\\"enable_subsampling\\\":null,\\\"subsample_seed\\\":null,\\\"enable_nimbusml\\\":false,\\\"enable_streaming\\\":false,\\\"force_streaming\\\":false,\\\"track_child_runs\\\":true,\\\"allowed_private_models\\\":[],\\\"label_column_name\\\":\\\"charges\\\",\\\"weight_column_name\\\":null,\\\"cv_split_column_names\\\":null,\\\"enable_local_managed\\\":false,\\\"_local_managed_run_id\\\":null,\\\"cost_mode\\\":1,\\\"lag_length\\\":0,\\\"metric_operation\\\":\\\"maximize\\\",\\\"preprocess\\\":true}\", \"DataPrepJsonString\": \"{\\\\\\\"training_data\\\\\\\": \\\\\\\"{\\\\\\\\\\\\\\\"blocks\\\\\\\\\\\\\\\": [{\\\\\\\\\\\\\\\"id\\\\\\\\\\\\\\\": \\\\\\\\\\\\\\\"fdb5f1b1-eb43-4ec8-9c07-d14087b689f8\\\\\\\\\\\\\\\", \\\\\\\\\\\\\\\"type\\\\\\\\\\\\\\\": \\\\\\\\\\\\\\\"Microsoft.DPrep.GetDatastoreFilesBlock\\\\\\\\\\\\\\\", \\\\\\\\\\\\\\\"arguments\\\\\\\\\\\\\\\": {\\\\\\\\\\\\\\\"datastores\\\\\\\\\\\\\\\": [{\\\\\\\\\\\\\\\"datastoreName\\\\\\\\\\\\\\\": \\\\\\\\\\\\\\\"workspaceblobstore\\\\\\\\\\\\\\\", \\\\\\\\\\\\\\\"path\\\\\\\\\\\\\\\": \\\\\\\\\\\\\\\"insurance//15cf5ba5-458e-4f2c-9d97-d83d245238f7/\\\\\\\\\\\\\\\", \\\\\\\\\\\\\\\"resourceGroup\\\\\\\\\\\\\\\": \\\\\\\\\\\\\\\"lab-automl\\\\\\\\\\\\\\\", \\\\\\\\\\\\\\\"subscription\\\\\\\\\\\\\\\": \\\\\\\\\\\\\\\"23996c96-391e-45b6-a56c-4d58cc49b763\\\\\\\\\\\\\\\", \\\\\\\\\\\\\\\"workspaceName\\\\\\\\\\\\\\\": \\\\\\\\\\\\\\\"insurance\\\\\\\\\\\\\\\"}]}, \\\\\\\\\\\\\\\"localData\\\\\\\\\\\\\\\": {}, \\\\\\\\\\\\\\\"isEnabled\\\\\\\\\\\\\\\": true, \\\\\\\\\\\\\\\"name\\\\\\\\\\\\\\\": null, \\\\\\\\\\\\\\\"annotation\\\\\\\\\\\\\\\": null}, {\\\\\\\\\\\\\\\"id\\\\\\\\\\\\\\\": \\\\\\\\\\\\\\\"6bbcaaf9-4dba-4042-9f07-866913bb2d0d\\\\\\\\\\\\\\\", \\\\\\\\\\\\\\\"type\\\\\\\\\\\\\\\": \\\\\\\\\\\\\\\"Microsoft.DPrep.ReadParquetFileBlock\\\\\\\\\\\\\\\", \\\\\\\\\\\\\\\"arguments\\\\\\\\\\\\\\\": {\\\\\\\\\\\\\\\"preview\\\\\\\\\\\\\\\": false}, \\\\\\\\\\\\\\\"localData\\\\\\\\\\\\\\\": {}, \\\\\\\\\\\\\\\"isEnabled\\\\\\\\\\\\\\\": true, \\\\\\\\\\\\\\\"name\\\\\\\\\\\\\\\": null, \\\\\\\\\\\\\\\"annotation\\\\\\\\\\\\\\\": null}, {\\\\\\\\\\\\\\\"id\\\\\\\\\\\\\\\": \\\\\\\\\\\\\\\"ced8cfaf-68ec-4005-b52e-d8f7c749b889\\\\\\\\\\\\\\\", \\\\\\\\\\\\\\\"type\\\\\\\\\\\\\\\": \\\\\\\\\\\\\\\"Microsoft.DPrep.DropColumnsBlock\\\\\\\\\\\\\\\", \\\\\\\\\\\\\\\"arguments\\\\\\\\\\\\\\\": {\\\\\\\\\\\\\\\"columns\\\\\\\\\\\\\\\": {\\\\\\\\\\\\\\\"type\\\\\\\\\\\\\\\": 0, \\\\\\\\\\\\\\\"details\\\\\\\\\\\\\\\": {\\\\\\\\\\\\\\\"selectedColumns\\\\\\\\\\\\\\\": [\\\\\\\\\\\\\\\"Path\\\\\\\\\\\\\\\"]}}}, \\\\\\\\\\\\\\\"localData\\\\\\\\\\\\\\\": {}, \\\\\\\\\\\\\\\"isEnabled\\\\\\\\\\\\\\\": true, \\\\\\\\\\\\\\\"name\\\\\\\\\\\\\\\": null, \\\\\\\\\\\\\\\"annotation\\\\\\\\\\\\\\\": null}, {\\\\\\\\\\\\\\\"id\\\\\\\\\\\\\\\": \\\\\\\\\\\\\\\"aa6cc242-f717-4833-accb-083634e6a5dd\\\\\\\\\\\\\\\", \\\\\\\\\\\\\\\"type\\\\\\\\\\\\\\\": \\\\\\\\\\\\\\\"Microsoft.DPrep.TakeSampleBlock\\\\\\\\\\\\\\\", \\\\\\\\\\\\\\\"arguments\\\\\\\\\\\\\\\": {\\\\\\\\\\\\\\\"probability\\\\\\\\\\\\\\\": 0.7, \\\\\\\\\\\\\\\"probabilityLowerBound\\\\\\\\\\\\\\\": 0.0, \\\\\\\\\\\\\\\"seed\\\\\\\\\\\\\\\": 1}, \\\\\\\\\\\\\\\"localData\\\\\\\\\\\\\\\": {}, \\\\\\\\\\\\\\\"isEnabled\\\\\\\\\\\\\\\": true, \\\\\\\\\\\\\\\"name\\\\\\\\\\\\\\\": null, \\\\\\\\\\\\\\\"annotation\\\\\\\\\\\\\\\": null}], \\\\\\\\\\\\\\\"inspectors\\\\\\\\\\\\\\\": [], \\\\\\\\\\\\\\\"meta\\\\\\\\\\\\\\\": {\\\\\\\\\\\\\\\"savedDatasetId\\\\\\\\\\\\\\\": \\\\\\\\\\\\\\\"c177d52d-f726-4ee2-be43-a73e841ec0e5\\\\\\\\\\\\\\\", \\\\\\\\\\\\\\\"datasetType\\\\\\\\\\\\\\\": \\\\\\\\\\\\\\\"tabular\\\\\\\\\\\\\\\", \\\\\\\\\\\\\\\"subscriptionId\\\\\\\\\\\\\\\": \\\\\\\\\\\\\\\"23996c96-391e-45b6-a56c-4d58cc49b763\\\\\\\\\\\\\\\", \\\\\\\\\\\\\\\"workspaceId\\\\\\\\\\\\\\\": \\\\\\\\\\\\\\\"28ec115d-1219-48e6-8e1d-332a1c7a2820\\\\\\\\\\\\\\\", \\\\\\\\\\\\\\\"workspaceLocation\\\\\\\\\\\\\\\": \\\\\\\\\\\\\\\"northeurope\\\\\\\\\\\\\\\"}}\\\\\\\", \\\\\\\"activities\\\\\\\": 0}\", \"EnableSubsampling\": null, \"runTemplate\": \"AutoML\", \"azureml.runsource\": \"automl\", \"display_task_type\": \"regression\", \"dependencies_versions\": \"{\\\"azureml-widgets\\\": \\\"1.19.0\\\", \\\"azureml-train\\\": \\\"1.21.0\\\", \\\"azureml-train-restclients-hyperdrive\\\": \\\"1.21.0\\\", \\\"azureml-train-core\\\": \\\"1.21.0\\\", \\\"azureml-train-automl\\\": \\\"1.19.0\\\", \\\"azureml-train-automl-runtime\\\": \\\"1.19.0\\\", \\\"azureml-train-automl-client\\\": \\\"1.21.0\\\", \\\"azureml-tensorboard\\\": \\\"1.19.0\\\", \\\"azureml-telemetry\\\": \\\"1.21.0\\\", \\\"azureml-sdk\\\": \\\"1.21.0\\\", \\\"azureml-samples\\\": \\\"0+unknown\\\", \\\"azureml-pipeline\\\": \\\"1.21.0\\\", \\\"azureml-pipeline-steps\\\": \\\"1.21.0\\\", \\\"azureml-pipeline-core\\\": \\\"1.21.0\\\", \\\"azureml-opendatasets\\\": \\\"1.19.0\\\", \\\"azureml-model-management-sdk\\\": \\\"1.0.1b6.post1\\\", \\\"azureml-mlflow\\\": \\\"1.19.0\\\", \\\"azureml-interpret\\\": \\\"1.19.0\\\", \\\"azureml-explain-model\\\": \\\"1.19.0\\\", \\\"azureml-defaults\\\": \\\"1.19.0\\\", \\\"azureml-dataset-runtime\\\": \\\"1.21.0\\\", \\\"azureml-dataprep\\\": \\\"2.8.2\\\", \\\"azureml-dataprep-rslex\\\": \\\"1.6.0\\\", \\\"azureml-dataprep-native\\\": \\\"28.0.0\\\", \\\"azureml-datadrift\\\": \\\"1.19.0\\\", \\\"azureml-core\\\": \\\"1.21.0.post1\\\", \\\"azureml-contrib-services\\\": \\\"1.19.0\\\", \\\"azureml-contrib-server\\\": \\\"1.19.0\\\", \\\"azureml-contrib-reinforcementlearning\\\": \\\"1.19.0\\\", \\\"azureml-contrib-pipeline-steps\\\": \\\"1.19.0\\\", \\\"azureml-contrib-notebook\\\": \\\"1.19.0\\\", \\\"azureml-contrib-interpret\\\": \\\"1.19.0\\\", \\\"azureml-contrib-gbdt\\\": \\\"1.19.0\\\", \\\"azureml-contrib-fairness\\\": \\\"1.19.0\\\", \\\"azureml-contrib-dataset\\\": \\\"1.19.0\\\", \\\"azureml-cli-common\\\": \\\"1.19.0\\\", \\\"azureml-automl-runtime\\\": \\\"1.19.0\\\", \\\"azureml-automl-core\\\": \\\"1.21.0\\\", \\\"azureml-accel-models\\\": \\\"1.19.0\\\"}\", \"_aml_system_scenario_identification\": \"Remote.Parent\", \"ClientType\": \"SDK\", \"environment_cpu_name\": \"AzureML-AutoML\", \"environment_cpu_label\": \"prod\", \"environment_gpu_name\": \"AzureML-AutoML-GPU\", \"environment_gpu_label\": \"prod\", \"root_attribution\": \"automl\", \"attribution\": \"AutoML\", \"Orchestrator\": \"AutoML\", \"CancelUri\": \"https://northeurope.experiments.azureml.net/jasmine/v1.0/subscriptions/23996c96-391e-45b6-a56c-4d58cc49b763/resourceGroups/lab-automl/providers/Microsoft.MachineLearningServices/workspaces/insurance/experimentids/629167b4-2bbf-4573-9d9f-be48a6a8e9fe/cancel/AutoML_59ba7ab4-e9ec-4d94-960e-d59b2ca57c03\", \"ClientSdkVersion\": \"1.20.0.post1\", \"snapshotId\": \"00000000-0000-0000-0000-000000000000\", \"SetupRunId\": \"AutoML_59ba7ab4-e9ec-4d94-960e-d59b2ca57c03_setup\", \"SetupRunContainerId\": \"dcid.AutoML_59ba7ab4-e9ec-4d94-960e-d59b2ca57c03_setup\", \"FeaturizationRunJsonPath\": \"featurizer_container.json\", \"FeaturizationRunId\": \"AutoML_59ba7ab4-e9ec-4d94-960e-d59b2ca57c03_featurize\", \"ProblemInfoJsonString\": \"{\\\"dataset_num_categorical\\\": 0, \\\"is_sparse\\\": true, \\\"subsampling\\\": false, \\\"dataset_classes\\\": 965, \\\"dataset_features\\\": 60, \\\"dataset_samples\\\": 965, \\\"single_frequency_class_detected\\\": false}\", \"ModelExplainRunId\": \"AutoML_59ba7ab4-e9ec-4d94-960e-d59b2ca57c03_ModelExplain\"}, \"tags\": {\"model_explain_run\": \"best_run\", \"_aml_system_azureml.automlComponent\": \"AutoML\", \"pipeline_id\": \"\", \"score\": \"\", \"predicted_cost\": \"\", \"fit_time\": \"\", \"training_percent\": \"\", \"iteration\": \"\", \"run_preprocessor\": \"\", \"run_algorithm\": \"\", \"dynamic_whitelisting_iterations\": \"<25>;\", \"automl_best_child_run_id\": \"AutoML_59ba7ab4-e9ec-4d94-960e-d59b2ca57c03_29\", \"model_explain_best_run_child_id\": \"AutoML_59ba7ab4-e9ec-4d94-960e-d59b2ca57c03_29\"}, \"end_time_utc\": \"2021-01-26T18:51:23.34868Z\", \"status\": \"Completed\", \"log_files\": {}, \"log_groups\": [], \"run_duration\": \"0:36:46\"}, \"child_runs\": [{\"run_id\": \"AutoML_59ba7ab4-e9ec-4d94-960e-d59b2ca57c03_0\", \"run_number\": 5, \"metric\": null, \"status\": \"Completed\", \"run_type\": \"azureml.scriptrun\", \"training_percent\": \"100\", \"start_time\": \"2021-01-26T18:17:53.031891Z\", \"end_time\": \"2021-01-26T18:18:33.100082Z\", \"created_time\": \"2021-01-26T18:17:38.145045Z\", \"created_time_dt\": \"2021-01-26T18:17:38.145045Z\", \"duration\": \"0:00:54\", \"iteration\": \"0\", \"goal\": \"r2_score_max\", \"run_name\": \"MaxAbsScaler, LightGBM\", \"run_properties\": \"copy=True\", \"primary_metric\": 0.74438775, \"best_metric\": 0.74438775}, {\"run_id\": \"AutoML_59ba7ab4-e9ec-4d94-960e-d59b2ca57c03_1\", \"run_number\": 6, \"metric\": null, \"status\": \"Completed\", \"run_type\": \"azureml.scriptrun\", \"training_percent\": \"100\", \"start_time\": \"2021-01-26T18:18:45.932909Z\", \"end_time\": \"2021-01-26T18:19:28.774143Z\", \"created_time\": \"2021-01-26T18:18:34.391879Z\", \"created_time_dt\": \"2021-01-26T18:18:34.391879Z\", \"duration\": \"0:00:54\", \"iteration\": \"1\", \"goal\": \"r2_score_max\", \"run_name\": \"MaxAbsScaler, XGBoostRegressor\", \"run_properties\": \"copy=True\", \"primary_metric\": 0.82262574, \"best_metric\": 0.82262574}, {\"run_id\": \"AutoML_59ba7ab4-e9ec-4d94-960e-d59b2ca57c03_2\", \"run_number\": 7, \"metric\": null, \"status\": \"Completed\", \"run_type\": \"azureml.scriptrun\", \"training_percent\": \"100\", \"start_time\": \"2021-01-26T18:19:42.04862Z\", \"end_time\": \"2021-01-26T18:20:48.828074Z\", \"created_time\": \"2021-01-26T18:19:30.259622Z\", \"created_time_dt\": \"2021-01-26T18:19:30.259622Z\", \"duration\": \"0:01:18\", \"iteration\": \"2\", \"goal\": \"r2_score_max\", \"run_name\": \"SparseNormalizer, XGBoostRegressor\", \"run_properties\": \"<azureml.automl.runtime.shared.model_wrappers.SparseNormalizer object at 0x7fcd79531c88\", \"primary_metric\": 0.79572744, \"best_metric\": 0.82262574}, {\"run_id\": \"AutoML_59ba7ab4-e9ec-4d94-960e-d59b2ca57c03_3\", \"run_number\": 8, \"metric\": null, \"status\": \"Completed\", \"run_type\": \"azureml.scriptrun\", \"training_percent\": \"100\", \"start_time\": \"2021-01-26T18:21:03.286625Z\", \"end_time\": \"2021-01-26T18:21:54.370606Z\", \"created_time\": \"2021-01-26T18:20:51.409584Z\", \"created_time_dt\": \"2021-01-26T18:20:51.409584Z\", \"duration\": \"0:01:02\", \"iteration\": \"3\", \"goal\": \"r2_score_max\", \"run_name\": \"MaxAbsScaler, RandomForest\", \"run_properties\": \"copy=True\", \"primary_metric\": 0.80954188, \"best_metric\": 0.82262574}, {\"run_id\": \"AutoML_59ba7ab4-e9ec-4d94-960e-d59b2ca57c03_4\", \"run_number\": 9, \"metric\": null, \"status\": \"Completed\", \"run_type\": \"azureml.scriptrun\", \"training_percent\": \"100\", \"start_time\": \"2021-01-26T18:22:09.953015Z\", \"end_time\": \"2021-01-26T18:22:58.447793Z\", \"created_time\": \"2021-01-26T18:21:56.865457Z\", \"created_time_dt\": \"2021-01-26T18:21:56.865457Z\", \"duration\": \"0:01:01\", \"iteration\": \"4\", \"goal\": \"r2_score_max\", \"run_name\": \"StandardScalerWrapper, XGBoostRegressor\", \"run_properties\": \"<azureml.automl.runtime.shared.model_wrappers.StandardScalerWrapper object at 0x7fbd4128f630\", \"primary_metric\": 0.78106593, \"best_metric\": 0.82262574}, {\"run_id\": \"AutoML_59ba7ab4-e9ec-4d94-960e-d59b2ca57c03_5\", \"run_number\": 10, \"metric\": null, \"status\": \"Completed\", \"run_type\": \"azureml.scriptrun\", \"training_percent\": \"100\", \"start_time\": \"2021-01-26T18:23:15.987838Z\", \"end_time\": \"2021-01-26T18:24:03.930243Z\", \"created_time\": \"2021-01-26T18:23:02.552392Z\", \"created_time_dt\": \"2021-01-26T18:23:02.552392Z\", \"duration\": \"0:01:01\", \"iteration\": \"5\", \"goal\": \"r2_score_max\", \"run_name\": \"MaxAbsScaler, ElasticNet\", \"run_properties\": \"copy=True\", \"primary_metric\": 0.72568205, \"best_metric\": 0.82262574}, {\"run_id\": \"AutoML_59ba7ab4-e9ec-4d94-960e-d59b2ca57c03_6\", \"run_number\": 11, \"metric\": null, \"status\": \"Completed\", \"run_type\": \"azureml.scriptrun\", \"training_percent\": \"100\", \"start_time\": \"2021-01-26T18:24:24.17758Z\", \"end_time\": \"2021-01-26T18:25:15.607627Z\", \"created_time\": \"2021-01-26T18:24:12.004519Z\", \"created_time_dt\": \"2021-01-26T18:24:12.004519Z\", \"duration\": \"0:01:03\", \"iteration\": \"6\", \"goal\": \"r2_score_max\", \"run_name\": \"MaxAbsScaler, RandomForest\", \"run_properties\": \"copy=True\", \"primary_metric\": 0.78439097, \"best_metric\": 0.82262574}, {\"run_id\": \"AutoML_59ba7ab4-e9ec-4d94-960e-d59b2ca57c03_7\", \"run_number\": 12, \"metric\": null, \"status\": \"Completed\", \"run_type\": \"azureml.scriptrun\", \"training_percent\": \"100\", \"start_time\": \"2021-01-26T18:25:35.596941Z\", \"end_time\": \"2021-01-26T18:26:21.617104Z\", \"created_time\": \"2021-01-26T18:25:18.754408Z\", \"created_time_dt\": \"2021-01-26T18:25:18.754408Z\", \"duration\": \"0:01:02\", \"iteration\": \"7\", \"goal\": \"r2_score_max\", \"run_name\": \"StandardScalerWrapper, XGBoostRegressor\", \"run_properties\": \"<azureml.automl.runtime.shared.model_wrappers.StandardScalerWrapper object at 0x7f9c502f7630\", \"primary_metric\": 0.81867245, \"best_metric\": 0.82262574}, {\"run_id\": \"AutoML_59ba7ab4-e9ec-4d94-960e-d59b2ca57c03_8\", \"run_number\": 13, \"metric\": null, \"status\": \"Completed\", \"run_type\": \"azureml.scriptrun\", \"training_percent\": \"100\", \"start_time\": \"2021-01-26T18:26:43.199342Z\", \"end_time\": \"2021-01-26T18:27:29.404684Z\", \"created_time\": \"2021-01-26T18:26:24.762351Z\", \"created_time_dt\": \"2021-01-26T18:26:24.762351Z\", \"duration\": \"0:01:04\", \"iteration\": \"8\", \"goal\": \"r2_score_max\", \"run_name\": \"MaxAbsScaler, ExtremeRandomTrees\", \"run_properties\": \"copy=True\", \"primary_metric\": 0.80774053, \"best_metric\": 0.82262574}, {\"run_id\": \"AutoML_59ba7ab4-e9ec-4d94-960e-d59b2ca57c03_9\", \"run_number\": 14, \"metric\": null, \"status\": \"Completed\", \"run_type\": \"azureml.scriptrun\", \"training_percent\": \"100\", \"start_time\": \"2021-01-26T18:27:44.442687Z\", \"end_time\": \"2021-01-26T18:28:32.577732Z\", \"created_time\": \"2021-01-26T18:27:32.256541Z\", \"created_time_dt\": \"2021-01-26T18:27:32.256541Z\", \"duration\": \"0:01:00\", \"iteration\": \"9\", \"goal\": \"r2_score_max\", \"run_name\": \"StandardScalerWrapper, ElasticNet\", \"run_properties\": \"<azureml.automl.runtime.shared.model_wrappers.StandardScalerWrapper object at 0x7fc2f44ac9b0\", \"primary_metric\": 0.72624929, \"best_metric\": 0.82262574}, {\"run_id\": \"AutoML_59ba7ab4-e9ec-4d94-960e-d59b2ca57c03_10\", \"run_number\": 15, \"metric\": null, \"status\": \"Completed\", \"run_type\": \"azureml.scriptrun\", \"training_percent\": \"100\", \"start_time\": \"2021-01-26T18:28:51.657829Z\", \"end_time\": \"2021-01-26T18:29:46.798197Z\", \"created_time\": \"2021-01-26T18:28:35.730542Z\", \"created_time_dt\": \"2021-01-26T18:28:35.730542Z\", \"duration\": \"0:01:11\", \"iteration\": \"10\", \"goal\": \"r2_score_max\", \"run_name\": \"MaxAbsScaler, RandomForest\", \"run_properties\": \"copy=True\", \"primary_metric\": 0.75503559, \"best_metric\": 0.82262574}, {\"run_id\": \"AutoML_59ba7ab4-e9ec-4d94-960e-d59b2ca57c03_11\", \"run_number\": 16, \"metric\": null, \"status\": \"Completed\", \"run_type\": \"azureml.scriptrun\", \"training_percent\": \"100\", \"start_time\": \"2021-01-26T18:30:02.265798Z\", \"end_time\": \"2021-01-26T18:30:41.7459Z\", \"created_time\": \"2021-01-26T18:29:50.272949Z\", \"created_time_dt\": \"2021-01-26T18:29:50.272949Z\", \"duration\": \"0:00:51\", \"iteration\": \"11\", \"goal\": \"r2_score_max\", \"run_name\": \"MaxAbsScaler, RandomForest\", \"run_properties\": \"copy=True\", \"primary_metric\": 0.70049892, \"best_metric\": 0.82262574}, {\"run_id\": \"AutoML_59ba7ab4-e9ec-4d94-960e-d59b2ca57c03_12\", \"run_number\": 17, \"metric\": null, \"status\": \"Completed\", \"run_type\": \"azureml.scriptrun\", \"training_percent\": \"100\", \"start_time\": \"2021-01-26T18:31:00.229616Z\", \"end_time\": \"2021-01-26T18:31:42.519408Z\", \"created_time\": \"2021-01-26T18:30:48.627613Z\", \"created_time_dt\": \"2021-01-26T18:30:48.627613Z\", \"duration\": \"0:00:53\", \"iteration\": \"12\", \"goal\": \"r2_score_max\", \"run_name\": \"StandardScalerWrapper, XGBoostRegressor\", \"run_properties\": \"<azureml.automl.runtime.shared.model_wrappers.StandardScalerWrapper object at 0x7fb7a0578908\", \"primary_metric\": 0.80106797, \"best_metric\": 0.82262574}, {\"run_id\": \"AutoML_59ba7ab4-e9ec-4d94-960e-d59b2ca57c03_13\", \"run_number\": 18, \"metric\": null, \"status\": \"Completed\", \"run_type\": \"azureml.scriptrun\", \"training_percent\": \"100\", \"start_time\": \"2021-01-26T18:31:57.222326Z\", \"end_time\": \"2021-01-26T18:32:34.361692Z\", \"created_time\": \"2021-01-26T18:31:45.675901Z\", \"created_time_dt\": \"2021-01-26T18:31:45.675901Z\", \"duration\": \"0:00:48\", \"iteration\": \"13\", \"goal\": \"r2_score_max\", \"run_name\": \"MaxAbsScaler, ExtremeRandomTrees\", \"run_properties\": \"copy=True\", \"primary_metric\": 0.78669731, \"best_metric\": 0.82262574}, {\"run_id\": \"AutoML_59ba7ab4-e9ec-4d94-960e-d59b2ca57c03_14\", \"run_number\": 19, \"metric\": null, \"status\": \"Completed\", \"run_type\": \"azureml.scriptrun\", \"training_percent\": \"100\", \"start_time\": \"2021-01-26T18:32:54.406598Z\", \"end_time\": \"2021-01-26T18:33:35.081535Z\", \"created_time\": \"2021-01-26T18:32:37.11149Z\", \"created_time_dt\": \"2021-01-26T18:32:37.11149Z\", \"duration\": \"0:00:57\", \"iteration\": \"14\", \"goal\": \"r2_score_max\", \"run_name\": \"MaxAbsScaler, ExtremeRandomTrees\", \"run_properties\": \"copy=True\", \"primary_metric\": 0.67157344, \"best_metric\": 0.82262574}, {\"run_id\": \"AutoML_59ba7ab4-e9ec-4d94-960e-d59b2ca57c03_15\", \"run_number\": 20, \"metric\": null, \"status\": \"Completed\", \"run_type\": \"azureml.scriptrun\", \"training_percent\": \"100\", \"start_time\": \"2021-01-26T18:33:52.296577Z\", \"end_time\": \"2021-01-26T18:34:47.042492Z\", \"created_time\": \"2021-01-26T18:33:38.096168Z\", \"created_time_dt\": \"2021-01-26T18:33:38.096168Z\", \"duration\": \"0:01:08\", \"iteration\": \"15\", \"goal\": \"r2_score_max\", \"run_name\": \"MaxAbsScaler, ExtremeRandomTrees\", \"run_properties\": \"copy=True\", \"primary_metric\": 0.80929931, \"best_metric\": 0.82262574}, {\"run_id\": \"AutoML_59ba7ab4-e9ec-4d94-960e-d59b2ca57c03_16\", \"run_number\": 21, \"metric\": null, \"status\": \"Completed\", \"run_type\": \"azureml.scriptrun\", \"training_percent\": \"100\", \"start_time\": \"2021-01-26T18:35:03.376671Z\", \"end_time\": \"2021-01-26T18:35:49.196633Z\", \"created_time\": \"2021-01-26T18:34:49.400624Z\", \"created_time_dt\": \"2021-01-26T18:34:49.400624Z\", \"duration\": \"0:00:59\", \"iteration\": \"16\", \"goal\": \"r2_score_max\", \"run_name\": \"MaxAbsScaler, ElasticNet\", \"run_properties\": \"copy=True\", \"primary_metric\": 0.72641243, \"best_metric\": 0.82262574}, {\"run_id\": \"AutoML_59ba7ab4-e9ec-4d94-960e-d59b2ca57c03_17\", \"run_number\": 22, \"metric\": null, \"status\": \"Completed\", \"run_type\": \"azureml.scriptrun\", \"training_percent\": \"100\", \"start_time\": \"2021-01-26T18:36:03.566113Z\", \"end_time\": \"2021-01-26T18:36:48.292298Z\", \"created_time\": \"2021-01-26T18:35:51.580345Z\", \"created_time_dt\": \"2021-01-26T18:35:51.580345Z\", \"duration\": \"0:00:56\", \"iteration\": \"17\", \"goal\": \"r2_score_max\", \"run_name\": \"MaxAbsScaler, RandomForest\", \"run_properties\": \"copy=True\", \"primary_metric\": 0.74758919, \"best_metric\": 0.82262574}, {\"run_id\": \"AutoML_59ba7ab4-e9ec-4d94-960e-d59b2ca57c03_18\", \"run_number\": 23, \"metric\": null, \"status\": \"Completed\", \"run_type\": \"azureml.scriptrun\", \"training_percent\": \"100\", \"start_time\": \"2021-01-26T18:37:04.702817Z\", \"end_time\": \"2021-01-26T18:37:44.798147Z\", \"created_time\": \"2021-01-26T18:36:50.336326Z\", \"created_time_dt\": \"2021-01-26T18:36:50.336326Z\", \"duration\": \"0:00:54\", \"iteration\": \"18\", \"goal\": \"r2_score_max\", \"run_name\": \"MaxAbsScaler, RandomForest\", \"run_properties\": \"copy=True\", \"primary_metric\": 0.82206977, \"best_metric\": 0.82262574}, {\"run_id\": \"AutoML_59ba7ab4-e9ec-4d94-960e-d59b2ca57c03_19\", \"run_number\": 24, \"metric\": null, \"status\": \"Completed\", \"run_type\": \"azureml.scriptrun\", \"training_percent\": \"100\", \"start_time\": \"2021-01-26T18:38:02.456302Z\", \"end_time\": \"2021-01-26T18:38:51.412522Z\", \"created_time\": \"2021-01-26T18:37:47.132333Z\", \"created_time_dt\": \"2021-01-26T18:37:47.132333Z\", \"duration\": \"0:01:04\", \"iteration\": \"19\", \"goal\": \"r2_score_max\", \"run_name\": \"SparseNormalizer, XGBoostRegressor\", \"run_properties\": \"<azureml.automl.runtime.shared.model_wrappers.SparseNormalizer object at 0x7f8981978710\", \"primary_metric\": 0.7663778, \"best_metric\": 0.82262574}, {\"run_id\": \"AutoML_59ba7ab4-e9ec-4d94-960e-d59b2ca57c03_20\", \"run_number\": 25, \"metric\": null, \"status\": \"Completed\", \"run_type\": \"azureml.scriptrun\", \"training_percent\": \"100\", \"start_time\": \"2021-01-26T18:39:04.041474Z\", \"end_time\": \"2021-01-26T18:39:48.731542Z\", \"created_time\": \"2021-01-26T18:38:53.639838Z\", \"created_time_dt\": \"2021-01-26T18:38:53.639838Z\", \"duration\": \"0:00:55\", \"iteration\": \"20\", \"goal\": \"r2_score_max\", \"run_name\": \"StandardScalerWrapper, RandomForest\", \"run_properties\": \"<azureml.automl.runtime.shared.model_wrappers.StandardScalerWrapper object at 0x7f9020bcd320\", \"primary_metric\": 0.78922997, \"best_metric\": 0.82262574}, {\"run_id\": \"AutoML_59ba7ab4-e9ec-4d94-960e-d59b2ca57c03_21\", \"run_number\": 26, \"metric\": null, \"status\": \"Completed\", \"run_type\": \"azureml.scriptrun\", \"training_percent\": \"100\", \"start_time\": \"2021-01-26T18:40:03.635634Z\", \"end_time\": \"2021-01-26T18:40:46.109478Z\", \"created_time\": \"2021-01-26T18:39:50.7126Z\", \"created_time_dt\": \"2021-01-26T18:39:50.7126Z\", \"duration\": \"0:00:55\", \"iteration\": \"21\", \"goal\": \"r2_score_max\", \"run_name\": \"MaxAbsScaler, ElasticNet\", \"run_properties\": \"copy=True\", \"primary_metric\": 0.72606509, \"best_metric\": 0.82262574}, {\"run_id\": \"AutoML_59ba7ab4-e9ec-4d94-960e-d59b2ca57c03_22\", \"run_number\": 27, \"metric\": null, \"status\": \"Completed\", \"run_type\": \"azureml.scriptrun\", \"training_percent\": \"100\", \"start_time\": \"2021-01-26T18:41:03.185193Z\", \"end_time\": \"2021-01-26T18:41:55.297486Z\", \"created_time\": \"2021-01-26T18:40:47.991578Z\", \"created_time_dt\": \"2021-01-26T18:40:47.991578Z\", \"duration\": \"0:01:07\", \"iteration\": \"22\", \"goal\": \"r2_score_max\", \"run_name\": \"MaxAbsScaler, GradientBoosting\", \"run_properties\": \"copy=True\", \"primary_metric\": 0.61520049, \"best_metric\": 0.82262574}, {\"run_id\": \"AutoML_59ba7ab4-e9ec-4d94-960e-d59b2ca57c03_23\", \"run_number\": 28, \"metric\": null, \"status\": \"Completed\", \"run_type\": \"azureml.scriptrun\", \"training_percent\": \"100\", \"start_time\": \"2021-01-26T18:42:06.915615Z\", \"end_time\": \"2021-01-26T18:42:54.413042Z\", \"created_time\": \"2021-01-26T18:41:57.190618Z\", \"created_time_dt\": \"2021-01-26T18:41:57.190618Z\", \"duration\": \"0:00:57\", \"iteration\": \"23\", \"goal\": \"r2_score_max\", \"run_name\": \"MaxAbsScaler, SGD\", \"run_properties\": \"copy=True\", \"primary_metric\": 0.72449242, \"best_metric\": 0.82262574}, {\"run_id\": \"AutoML_59ba7ab4-e9ec-4d94-960e-d59b2ca57c03_24\", \"run_number\": 29, \"metric\": null, \"status\": \"Completed\", \"run_type\": \"azureml.scriptrun\", \"training_percent\": \"100\", \"start_time\": \"2021-01-26T18:43:07.389601Z\", \"end_time\": \"2021-01-26T18:43:47.006021Z\", \"created_time\": \"2021-01-26T18:42:56.180109Z\", \"created_time_dt\": \"2021-01-26T18:42:56.180109Z\", \"duration\": \"0:00:50\", \"iteration\": \"24\", \"goal\": \"r2_score_max\", \"run_name\": \"SparseNormalizer, RandomForest\", \"run_properties\": \"<azureml.automl.runtime.shared.model_wrappers.SparseNormalizer object at 0x7f66b7d07198\", \"primary_metric\": 0.81383619, \"best_metric\": 0.82262574}, {\"run_id\": \"AutoML_59ba7ab4-e9ec-4d94-960e-d59b2ca57c03_25\", \"run_number\": 30, \"metric\": null, \"status\": \"Completed\", \"run_type\": \"azureml.scriptrun\", \"training_percent\": \"100\", \"start_time\": \"2021-01-26T18:44:01.08253Z\", \"end_time\": \"2021-01-26T18:44:48.655888Z\", \"created_time\": \"2021-01-26T18:43:50.320484Z\", \"created_time_dt\": \"2021-01-26T18:43:50.320484Z\", \"duration\": \"0:00:58\", \"iteration\": \"25\", \"goal\": \"r2_score_max\", \"run_name\": \"StandardScalerWrapper, XGBoostRegressor\", \"run_properties\": \"<azureml.automl.runtime.shared.model_wrappers.StandardScalerWrapper object at 0x7f19847d3898\", \"primary_metric\": 0.49413094, \"best_metric\": 0.82262574}, {\"run_id\": \"AutoML_59ba7ab4-e9ec-4d94-960e-d59b2ca57c03_26\", \"run_number\": 31, \"metric\": null, \"status\": \"Completed\", \"run_type\": \"azureml.scriptrun\", \"training_percent\": \"100\", \"start_time\": \"2021-01-26T18:45:01.138385Z\", \"end_time\": \"2021-01-26T18:45:42.840868Z\", \"created_time\": \"2021-01-26T18:44:50.479825Z\", \"created_time_dt\": \"2021-01-26T18:44:50.479825Z\", \"duration\": \"0:00:52\", \"iteration\": \"26\", \"goal\": \"r2_score_max\", \"run_name\": \"StandardScalerWrapper, LightGBM\", \"run_properties\": \"<azureml.automl.runtime.shared.model_wrappers.StandardScalerWrapper object at 0x7fbaa4108208\", \"primary_metric\": 0.76609557, \"best_metric\": 0.82262574}, {\"run_id\": \"AutoML_59ba7ab4-e9ec-4d94-960e-d59b2ca57c03_27\", \"run_number\": 32, \"metric\": null, \"status\": \"Completed\", \"run_type\": \"azureml.scriptrun\", \"training_percent\": \"100\", \"start_time\": \"2021-01-26T18:46:00.095169Z\", \"end_time\": \"2021-01-26T18:46:40.565693Z\", \"created_time\": \"2021-01-26T18:45:44.871731Z\", \"created_time_dt\": \"2021-01-26T18:45:44.871731Z\", \"duration\": \"0:00:55\", \"iteration\": \"27\", \"goal\": \"r2_score_max\", \"run_name\": \"MaxAbsScaler, DecisionTree\", \"run_properties\": \"copy=True\", \"primary_metric\": 0.75974365, \"best_metric\": 0.82262574}, {\"run_id\": \"AutoML_59ba7ab4-e9ec-4d94-960e-d59b2ca57c03_28\", \"run_number\": 33, \"metric\": null, \"status\": \"Completed\", \"run_type\": \"azureml.scriptrun\", \"training_percent\": \"100\", \"start_time\": \"2021-01-26T18:46:55.734789Z\", \"end_time\": \"2021-01-26T18:47:38.838507Z\", \"created_time\": \"2021-01-26T18:46:42.900589Z\", \"created_time_dt\": \"2021-01-26T18:46:42.900589Z\", \"duration\": \"0:00:55\", \"iteration\": \"28\", \"goal\": \"r2_score_max\", \"run_name\": \"MaxAbsScaler, ExtremeRandomTrees\", \"run_properties\": \"copy=True\", \"primary_metric\": 0.80656688, \"best_metric\": 0.82262574}, {\"run_id\": \"AutoML_59ba7ab4-e9ec-4d94-960e-d59b2ca57c03_29\", \"run_number\": 34, \"metric\": null, \"status\": \"Completed\", \"run_type\": \"azureml.scriptrun\", \"training_percent\": \"100\", \"start_time\": \"2021-01-26T18:47:55.68819Z\", \"end_time\": \"2021-01-26T18:49:36.093143Z\", \"created_time\": \"2021-01-26T18:47:39.883132Z\", \"created_time_dt\": \"2021-01-26T18:47:39.883132Z\", \"duration\": \"0:01:56\", \"iteration\": \"29\", \"goal\": \"r2_score_max\", \"run_name\": \"VotingEnsemble\", \"run_properties\": \"estimators=[('1',\\n                                          Pipeline(memory=None,\\n                                                   steps=[('maxabsscaler',\\n                                                           MaxAbsScaler(copy=True\", \"primary_metric\": 0.83485978, \"best_metric\": 0.83485978}, {\"run_id\": \"AutoML_59ba7ab4-e9ec-4d94-960e-d59b2ca57c03_30\", \"run_number\": 35, \"metric\": null, \"status\": \"Completed\", \"run_type\": \"azureml.scriptrun\", \"training_percent\": \"100\", \"start_time\": \"2021-01-26T18:49:52.772229Z\", \"end_time\": \"2021-01-26T18:51:14.030211Z\", \"created_time\": \"2021-01-26T18:49:37.45913Z\", \"created_time_dt\": \"2021-01-26T18:49:37.45913Z\", \"duration\": \"0:01:36\", \"iteration\": \"30\", \"goal\": \"r2_score_max\", \"run_name\": \"StackEnsemble\", \"run_properties\": \"base_learners=[('1',\\n                                       Pipeline(memory=None,\\n                                                steps=[('maxabsscaler',\\n                                                        MaxAbsScaler(copy=True\", \"primary_metric\": 0.83022292, \"best_metric\": 0.83485978}], \"children_metrics\": {\"categories\": [0], \"series\": {\"median_absolute_error\": [{\"categories\": [\"0\", \"1\", \"2\", \"3\", \"4\", \"5\", \"6\", \"7\", \"8\", \"9\", \"10\", \"11\", \"12\", \"13\", \"14\", \"15\", \"16\", \"17\", \"18\", \"19\", \"20\", \"21\", \"22\", \"23\", \"24\", \"25\", \"26\", \"27\", \"28\", \"29\", \"30\"], \"mode\": \"markers\", \"name\": \"median_absolute_error\", \"stepped\": false, \"type\": \"scatter\", \"data\": [3581.216846652363, 2297.62128765625, 1429.0786456250007, 2633.816794586338, 1079.6106922656252, 3239.184944637869, 3142.0941424805023, 1671.8519151562498, 1596.5717843391317, 3250.673767327742, 3270.7671417535375, 3808.330145045004, 2368.21397765625, 1302.7405775000004, 4511.959231824833, 1687.4874806130188, 3187.5269499942096, 4063.4058941390213, 2058.676992318037, 1638.9442396874997, 2970.2857246102367, 3221.166106036121, 5025.621426842786, 3034.4624705379856, 2439.6238031387475, 3932.4629268749995, 3795.7380474961587, 3384.0763014321797, 1870.336076692684, 1823.2671916776205, 1802.3165726242667]}, {\"categories\": [\"0\", \"1\", \"2\", \"3\", \"4\", \"5\", \"6\", \"7\", \"8\", \"9\", \"10\", \"11\", \"12\", \"13\", \"14\", \"15\", \"16\", \"17\", \"18\", \"19\", \"20\", \"21\", \"22\", \"23\", \"24\", \"25\", \"26\", \"27\", \"28\", \"29\", \"30\"], \"mode\": \"lines\", \"name\": \"median_absolute_error_min\", \"stepped\": true, \"type\": \"scatter\", \"data\": [3581.216846652363, 2297.62128765625, 1429.0786456250007, 1429.0786456250007, 1079.6106922656252, 1079.6106922656252, 1079.6106922656252, 1079.6106922656252, 1079.6106922656252, 1079.6106922656252, 1079.6106922656252, 1079.6106922656252, 1079.6106922656252, 1079.6106922656252, 1079.6106922656252, 1079.6106922656252, 1079.6106922656252, 1079.6106922656252, 1079.6106922656252, 1079.6106922656252, 1079.6106922656252, 1079.6106922656252, 1079.6106922656252, 1079.6106922656252, 1079.6106922656252, 1079.6106922656252, 1079.6106922656252, 1079.6106922656252, 1079.6106922656252, 1079.6106922656252, 1079.6106922656252]}], \"spearman_correlation\": [{\"categories\": [\"0\", \"1\", \"2\", \"3\", \"4\", \"5\", \"6\", \"7\", \"8\", \"9\", \"10\", \"11\", \"12\", \"13\", \"14\", \"15\", \"16\", \"17\", \"18\", \"19\", \"20\", \"21\", \"22\", \"23\", \"24\", \"25\", \"26\", \"27\", \"28\", \"29\", \"30\"], \"mode\": \"markers\", \"name\": \"spearman_correlation\", \"stepped\": false, \"type\": \"scatter\", \"data\": [0.6078773901085148, 0.8485719445995075, 0.8195872709466236, 0.8274106362131315, 0.8297107266862606, 0.8317250681053363, 0.6868363193176661, 0.8512887113173798, 0.835569160941579, 0.8320318759681641, 0.8352862427220767, 0.8050612176899072, 0.8418283151636153, 0.8229126057850333, 0.5416255985978479, 0.8357281649397382, 0.8327780300197638, 0.5465685473040827, 0.85607326548818, 0.7902648454827206, 0.8439521300896236, 0.8322769216388014, 0.7544979952740294, 0.8413536269430051, 0.8252854414828267, 0.5604293825989866, 0.5632514545476457, 0.6219315065311205, 0.8386643142592705, 0.8675427995299396, 0.8677324261524489]}, {\"categories\": [\"0\", \"1\", \"2\", \"3\", \"4\", \"5\", \"6\", \"7\", \"8\", \"9\", \"10\", \"11\", \"12\", \"13\", \"14\", \"15\", \"16\", \"17\", \"18\", \"19\", \"20\", \"21\", \"22\", \"23\", \"24\", \"25\", \"26\", \"27\", \"28\", \"29\", \"30\"], \"mode\": \"lines\", \"name\": \"spearman_correlation_max\", \"stepped\": true, \"type\": \"scatter\", \"data\": [0.6078773901085148, 0.8485719445995075, 0.8485719445995075, 0.8485719445995075, 0.8485719445995075, 0.8485719445995075, 0.8485719445995075, 0.8512887113173798, 0.8512887113173798, 0.8512887113173798, 0.8512887113173798, 0.8512887113173798, 0.8512887113173798, 0.8512887113173798, 0.8512887113173798, 0.8512887113173798, 0.8512887113173798, 0.8512887113173798, 0.85607326548818, 0.85607326548818, 0.85607326548818, 0.85607326548818, 0.85607326548818, 0.85607326548818, 0.85607326548818, 0.85607326548818, 0.85607326548818, 0.85607326548818, 0.85607326548818, 0.8675427995299396, 0.8677324261524489]}], \"normalized_mean_absolute_error\": [{\"categories\": [\"0\", \"1\", \"2\", \"3\", \"4\", \"5\", \"6\", \"7\", \"8\", \"9\", \"10\", \"11\", \"12\", \"13\", \"14\", \"15\", \"16\", \"17\", \"18\", \"19\", \"20\", \"21\", \"22\", \"23\", \"24\", \"25\", \"26\", \"27\", \"28\", \"29\", \"30\"], \"mode\": \"markers\", \"name\": \"normalized_mean_absolute_error\", \"stepped\": false, \"type\": \"scatter\", \"data\": [0.07416094902656187, 0.05405465461018144, 0.05190483043093151, 0.05904810120770203, 0.05106844153148227, 0.07474423970917177, 0.06705959197128249, 0.050952066567832556, 0.0523713958036275, 0.07489317518266883, 0.07087934502701393, 0.08080448001637794, 0.0569383826348393, 0.05356586760555019, 0.08686639541130285, 0.052242284633601296, 0.07444795945828257, 0.07635266561820987, 0.05307750541870736, 0.05801265335564626, 0.06440530225401137, 0.07458901514378363, 0.09452129448076405, 0.07406638070078798, 0.05713809294649859, 0.09976853703295854, 0.07271748644772116, 0.07192290603765605, 0.05431479355675439, 0.049043314167954585, 0.04939539042706955]}, {\"categories\": [\"0\", \"1\", \"2\", \"3\", \"4\", \"5\", \"6\", \"7\", \"8\", \"9\", \"10\", \"11\", \"12\", \"13\", \"14\", \"15\", \"16\", \"17\", \"18\", \"19\", \"20\", \"21\", \"22\", \"23\", \"24\", \"25\", \"26\", \"27\", \"28\", \"29\", \"30\"], \"mode\": \"lines\", \"name\": \"normalized_mean_absolute_error_min\", \"stepped\": true, \"type\": \"scatter\", \"data\": [0.07416094902656187, 0.05405465461018144, 0.05190483043093151, 0.05190483043093151, 0.05106844153148227, 0.05106844153148227, 0.05106844153148227, 0.050952066567832556, 0.050952066567832556, 0.050952066567832556, 0.050952066567832556, 0.050952066567832556, 0.050952066567832556, 0.050952066567832556, 0.050952066567832556, 0.050952066567832556, 0.050952066567832556, 0.050952066567832556, 0.050952066567832556, 0.050952066567832556, 0.050952066567832556, 0.050952066567832556, 0.050952066567832556, 0.050952066567832556, 0.050952066567832556, 0.050952066567832556, 0.050952066567832556, 0.050952066567832556, 0.050952066567832556, 0.049043314167954585, 0.049043314167954585]}], \"mean_absolute_error\": [{\"categories\": [\"0\", \"1\", \"2\", \"3\", \"4\", \"5\", \"6\", \"7\", \"8\", \"9\", \"10\", \"11\", \"12\", \"13\", \"14\", \"15\", \"16\", \"17\", \"18\", \"19\", \"20\", \"21\", \"22\", \"23\", \"24\", \"25\", \"26\", \"27\", \"28\", \"29\", \"30\"], \"mode\": \"markers\", \"name\": \"mean_absolute_error\", \"stepped\": false, \"type\": \"scatter\", \"data\": [4558.747637541416, 3322.793629758193, 3190.6417893768785, 3629.7457815096896, 3139.2281280163093, 4594.603098619664, 4122.220123748436, 3132.0744427200616, 3219.322029023955, 4603.7583109903635, 4357.024160743304, 4967.132125635139, 3500.059272826117, 3292.747404192423, 5339.764121966418, 3211.3854363958553, 4576.390455557241, 4693.474646371319, 3262.727292600581, 3566.095767434683, 3959.0582826880373, 4585.061289486422, 5810.318416464798, 4552.934428064369, 3512.335665232359, 6132.871659140479, 4470.016550526705, 4421.172898783201, 3338.7846307322675, 3014.741525493252, 3036.384004932126]}, {\"categories\": [\"0\", \"1\", \"2\", \"3\", \"4\", \"5\", \"6\", \"7\", \"8\", \"9\", \"10\", \"11\", \"12\", \"13\", \"14\", \"15\", \"16\", \"17\", \"18\", \"19\", \"20\", \"21\", \"22\", \"23\", \"24\", \"25\", \"26\", \"27\", \"28\", \"29\", \"30\"], \"mode\": \"lines\", \"name\": \"mean_absolute_error_min\", \"stepped\": true, \"type\": \"scatter\", \"data\": [4558.747637541416, 3322.793629758193, 3190.6417893768785, 3190.6417893768785, 3139.2281280163093, 3139.2281280163093, 3139.2281280163093, 3132.0744427200616, 3132.0744427200616, 3132.0744427200616, 3132.0744427200616, 3132.0744427200616, 3132.0744427200616, 3132.0744427200616, 3132.0744427200616, 3132.0744427200616, 3132.0744427200616, 3132.0744427200616, 3132.0744427200616, 3132.0744427200616, 3132.0744427200616, 3132.0744427200616, 3132.0744427200616, 3132.0744427200616, 3132.0744427200616, 3132.0744427200616, 3132.0744427200616, 3132.0744427200616, 3132.0744427200616, 3014.741525493252, 3014.741525493252]}], \"normalized_root_mean_squared_error\": [{\"categories\": [\"0\", \"1\", \"2\", \"3\", \"4\", \"5\", \"6\", \"7\", \"8\", \"9\", \"10\", \"11\", \"12\", \"13\", \"14\", \"15\", \"16\", \"17\", \"18\", \"19\", \"20\", \"21\", \"22\", \"23\", \"24\", \"25\", \"26\", \"27\", \"28\", \"29\", \"30\"], \"mode\": \"markers\", \"name\": \"normalized_root_mean_squared_error\", \"stepped\": false, \"type\": \"scatter\", \"data\": [0.10093774716315282, 0.08403140451898213, 0.090153346768754, 0.0870510476343846, 0.09344139901420023, 0.10450416892603098, 0.09262437118727038, 0.08495488579751345, 0.08753883367305862, 0.10440829917409519, 0.09881990795447629, 0.10928682557844108, 0.08892850490420397, 0.092143824692876, 0.11433401611774716, 0.08717461030940098, 0.10437297051804177, 0.1002434663516855, 0.08409925648690549, 0.09636485016600077, 0.09163114459705478, 0.1044352700863815, 0.12393394362872434, 0.10473739108393225, 0.08608736612363455, 0.14197936866608218, 0.09648891884922353, 0.09778653602035661, 0.0877465865918414, 0.08107394524750786, 0.08222058687201013]}, {\"categories\": [\"0\", \"1\", \"2\", \"3\", \"4\", \"5\", \"6\", \"7\", \"8\", \"9\", \"10\", \"11\", \"12\", \"13\", \"14\", \"15\", \"16\", \"17\", \"18\", \"19\", \"20\", \"21\", \"22\", \"23\", \"24\", \"25\", \"26\", \"27\", \"28\", \"29\", \"30\"], \"mode\": \"lines\", \"name\": \"normalized_root_mean_squared_error_min\", \"stepped\": true, \"type\": \"scatter\", \"data\": [0.10093774716315282, 0.08403140451898213, 0.08403140451898213, 0.08403140451898213, 0.08403140451898213, 0.08403140451898213, 0.08403140451898213, 0.08403140451898213, 0.08403140451898213, 0.08403140451898213, 0.08403140451898213, 0.08403140451898213, 0.08403140451898213, 0.08403140451898213, 0.08403140451898213, 0.08403140451898213, 0.08403140451898213, 0.08403140451898213, 0.08403140451898213, 0.08403140451898213, 0.08403140451898213, 0.08403140451898213, 0.08403140451898213, 0.08403140451898213, 0.08403140451898213, 0.08403140451898213, 0.08403140451898213, 0.08403140451898213, 0.08403140451898213, 0.08107394524750786, 0.08107394524750786]}], \"mean_absolute_percentage_error\": [{\"categories\": [\"0\", \"1\", \"2\", \"3\", \"4\", \"5\", \"6\", \"7\", \"8\", \"9\", \"10\", \"11\", \"12\", \"13\", \"14\", \"15\", \"16\", \"17\", \"18\", \"19\", \"20\", \"21\", \"22\", \"23\", \"24\", \"25\", \"26\", \"27\", \"28\", \"29\", \"30\"], \"mode\": \"markers\", \"name\": \"mean_absolute_percentage_error\", \"stepped\": false, \"type\": \"scatter\", \"data\": [67.2881529501565, 51.28566941216076, 42.74277503865247, 54.84511854529031, 39.29659031552541, 49.181169453401644, 62.25823058734066, 41.09599304223218, 34.42919306463787, 49.479872693079905, 62.79899871211766, 72.61063003798087, 45.80426541016657, 36.531379128867194, 81.4971559337486, 34.46614925312214, 48.84654588000537, 80.22217153558977, 40.80341328655909, 49.7977571661576, 57.886657124269604, 49.00242629510647, 98.41456371523716, 47.41707568420758, 49.755232073340494, 60.58963026282438, 75.94411115882296, 65.75195986852404, 36.78118530812828, 39.343747881393355, 38.579403621993364]}, {\"categories\": [\"0\", \"1\", \"2\", \"3\", \"4\", \"5\", \"6\", \"7\", \"8\", \"9\", \"10\", \"11\", \"12\", \"13\", \"14\", \"15\", \"16\", \"17\", \"18\", \"19\", \"20\", \"21\", \"22\", \"23\", \"24\", \"25\", \"26\", \"27\", \"28\", \"29\", \"30\"], \"mode\": \"lines\", \"name\": \"mean_absolute_percentage_error_min\", \"stepped\": true, \"type\": \"scatter\", \"data\": [67.2881529501565, 51.28566941216076, 42.74277503865247, 42.74277503865247, 39.29659031552541, 39.29659031552541, 39.29659031552541, 39.29659031552541, 34.42919306463787, 34.42919306463787, 34.42919306463787, 34.42919306463787, 34.42919306463787, 34.42919306463787, 34.42919306463787, 34.42919306463787, 34.42919306463787, 34.42919306463787, 34.42919306463787, 34.42919306463787, 34.42919306463787, 34.42919306463787, 34.42919306463787, 34.42919306463787, 34.42919306463787, 34.42919306463787, 34.42919306463787, 34.42919306463787, 34.42919306463787, 34.42919306463787, 34.42919306463787]}], \"root_mean_squared_log_error\": [{\"categories\": [\"0\", \"1\", \"2\", \"3\", \"4\", \"5\", \"6\", \"7\", \"8\", \"9\", \"10\", \"11\", \"12\", \"13\", \"14\", \"15\", \"16\", \"17\", \"18\", \"19\", \"20\", \"21\", \"22\", \"23\", \"24\", \"25\", \"26\", \"27\", \"28\", \"29\", \"30\"], \"mode\": \"markers\", \"name\": \"root_mean_squared_log_error\", \"stepped\": false, \"type\": \"scatter\", \"data\": [0.6714384901379363, 0.5532122923735233, 0.5174098621432776, 0.5694684918905044, 0.5204721826585833, NaN, 0.6134730956140491, 0.5041250841633501, 0.4921051543885726, NaN, 0.5966760289324651, 0.6448383119094202, 0.5343464792757793, 0.5192084281945869, 0.7038530324766333, 0.49304919246036255, NaN, 0.6984640153967917, 0.503284439705814, 0.5708379089862279, 0.5734695634867524, NaN, 0.7609639856490252, NaN, 0.5469345168869838, 0.7045381775302566, 0.6832671883595993, 0.6417777705998866, 0.4938002537903623, 0.48873296224613316, 0.49081651244805097]}, {\"categories\": [\"0\", \"1\", \"2\", \"3\", \"4\", \"5\", \"6\", \"7\", \"8\", \"9\", \"10\", \"11\", \"12\", \"13\", \"14\", \"15\", \"16\", \"17\", \"18\", \"19\", \"20\", \"21\", \"22\", \"23\", \"24\", \"25\", \"26\", \"27\", \"28\", \"29\", \"30\"], \"mode\": \"lines\", \"name\": \"root_mean_squared_log_error_min\", \"stepped\": true, \"type\": \"scatter\", \"data\": [0.6714384901379363, 0.5532122923735233, 0.5174098621432776, 0.5174098621432776, 0.5174098621432776, 0.5174098621432776, 0.5174098621432776, 0.5041250841633501, 0.4921051543885726, 0.4921051543885726, 0.4921051543885726, 0.4921051543885726, 0.4921051543885726, 0.4921051543885726, 0.4921051543885726, 0.4921051543885726, 0.4921051543885726, 0.4921051543885726, 0.4921051543885726, 0.4921051543885726, 0.4921051543885726, 0.4921051543885726, 0.4921051543885726, 0.4921051543885726, 0.4921051543885726, 0.4921051543885726, 0.4921051543885726, 0.4921051543885726, 0.4921051543885726, 0.48873296224613316, 0.48873296224613316]}], \"explained_variance\": [{\"categories\": [\"0\", \"1\", \"2\", \"3\", \"4\", \"5\", \"6\", \"7\", \"8\", \"9\", \"10\", \"11\", \"12\", \"13\", \"14\", \"15\", \"16\", \"17\", \"18\", \"19\", \"20\", \"21\", \"22\", \"23\", \"24\", \"25\", \"26\", \"27\", \"28\", \"29\", \"30\"], \"mode\": \"markers\", \"name\": \"explained_variance\", \"stepped\": false, \"type\": \"scatter\", \"data\": [0.7475186418500799, 0.8243821603445424, 0.7983904455797984, 0.8119327091778714, 0.7833791425611688, 0.7299106112005141, 0.7862681358759718, 0.8208305469327973, 0.8096268513930122, 0.7304607907811907, 0.7579080602921136, 0.7036224872137867, 0.811637474350045, 0.7893751091508385, 0.6755488645781837, 0.8112157285581523, 0.7306124653255981, 0.7508979096397146, 0.8234622752574852, 0.7695115911799669, 0.7919615390802948, 0.7302791267211228, 0.6181919871088098, 0.7309371317000048, 0.816105937424811, 0.6430496608479055, 0.7688304405136491, 0.7610610631404926, 0.8089712367939846, 0.8368379378404066, 0.8334296938290209]}, {\"categories\": [\"0\", \"1\", \"2\", \"3\", \"4\", \"5\", \"6\", \"7\", \"8\", \"9\", \"10\", \"11\", \"12\", \"13\", \"14\", \"15\", \"16\", \"17\", \"18\", \"19\", \"20\", \"21\", \"22\", \"23\", \"24\", \"25\", \"26\", \"27\", \"28\", \"29\", \"30\"], \"mode\": \"lines\", \"name\": \"explained_variance_max\", \"stepped\": true, \"type\": \"scatter\", \"data\": [0.7475186418500799, 0.8243821603445424, 0.8243821603445424, 0.8243821603445424, 0.8243821603445424, 0.8243821603445424, 0.8243821603445424, 0.8243821603445424, 0.8243821603445424, 0.8243821603445424, 0.8243821603445424, 0.8243821603445424, 0.8243821603445424, 0.8243821603445424, 0.8243821603445424, 0.8243821603445424, 0.8243821603445424, 0.8243821603445424, 0.8243821603445424, 0.8243821603445424, 0.8243821603445424, 0.8243821603445424, 0.8243821603445424, 0.8243821603445424, 0.8243821603445424, 0.8243821603445424, 0.8243821603445424, 0.8243821603445424, 0.8243821603445424, 0.8368379378404066, 0.8368379378404066]}], \"r2_score\": [{\"categories\": [\"0\", \"1\", \"2\", \"3\", \"4\", \"5\", \"6\", \"7\", \"8\", \"9\", \"10\", \"11\", \"12\", \"13\", \"14\", \"15\", \"16\", \"17\", \"18\", \"19\", \"20\", \"21\", \"22\", \"23\", \"24\", \"25\", \"26\", \"27\", \"28\", \"29\", \"30\"], \"mode\": \"markers\", \"name\": \"r2_score\", \"stepped\": false, \"type\": \"scatter\", \"data\": [0.7443877518900706, 0.8226257412480831, 0.7957274418068739, 0.80954188123497, 0.7810659299417166, 0.7256820529190472, 0.7843909715884609, 0.8186724548216322, 0.8077405326746291, 0.7262492909563502, 0.7550355948984635, 0.7004989248156286, 0.8010679676588666, 0.7866973052576661, 0.6715734397711296, 0.8092993120524838, 0.726412431996386, 0.7475891924137642, 0.8220697673442061, 0.7663777952052596, 0.7892299712124109, 0.7260650852979441, 0.6152004913539406, 0.7244924171842086, 0.8138361913256007, 0.4941309405749797, 0.7660955658997795, 0.7597436547529026, 0.806566883552448, 0.8348597823614415, 0.8302229214510618]}, {\"categories\": [\"0\", \"1\", \"2\", \"3\", \"4\", \"5\", \"6\", \"7\", \"8\", \"9\", \"10\", \"11\", \"12\", \"13\", \"14\", \"15\", \"16\", \"17\", \"18\", \"19\", \"20\", \"21\", \"22\", \"23\", \"24\", \"25\", \"26\", \"27\", \"28\", \"29\", \"30\"], \"mode\": \"lines\", \"name\": \"r2_score_max\", \"stepped\": true, \"type\": \"scatter\", \"data\": [0.7443877518900706, 0.8226257412480831, 0.8226257412480831, 0.8226257412480831, 0.8226257412480831, 0.8226257412480831, 0.8226257412480831, 0.8226257412480831, 0.8226257412480831, 0.8226257412480831, 0.8226257412480831, 0.8226257412480831, 0.8226257412480831, 0.8226257412480831, 0.8226257412480831, 0.8226257412480831, 0.8226257412480831, 0.8226257412480831, 0.8226257412480831, 0.8226257412480831, 0.8226257412480831, 0.8226257412480831, 0.8226257412480831, 0.8226257412480831, 0.8226257412480831, 0.8226257412480831, 0.8226257412480831, 0.8226257412480831, 0.8226257412480831, 0.8348597823614415, 0.8348597823614415]}], \"normalized_median_absolute_error\": [{\"categories\": [\"0\", \"1\", \"2\", \"3\", \"4\", \"5\", \"6\", \"7\", \"8\", \"9\", \"10\", \"11\", \"12\", \"13\", \"14\", \"15\", \"16\", \"17\", \"18\", \"19\", \"20\", \"21\", \"22\", \"23\", \"24\", \"25\", \"26\", \"27\", \"28\", \"29\", \"30\"], \"mode\": \"markers\", \"name\": \"normalized_median_absolute_error\", \"stepped\": false, \"type\": \"scatter\", \"data\": [0.05825864055964376, 0.03737732130487352, 0.023248013932681947, 0.042846493944982154, 0.01756292733958446, 0.052694522414153545, 0.05111506537853143, 0.027197409139043636, 0.02597276448043908, 0.05288142067253978, 0.053208296348721464, 0.06195328195778761, 0.03852571145519149, 0.02119276723440552, 0.0733998030173362, 0.02745176591968488, 0.05185415874145659, 0.06610281185733598, 0.03349021521441185, 0.026662072542886543, 0.04832011458654535, 0.052401394942025524, 0.08175597424907882, 0.04936413122485289, 0.039687394629752855, 0.06397265342507603, 0.06174843580733014, 0.05505159092944588, 0.030426316496201457, 0.029660607696356218, 0.029319786507024354]}, {\"categories\": [\"0\", \"1\", \"2\", \"3\", \"4\", \"5\", \"6\", \"7\", \"8\", \"9\", \"10\", \"11\", \"12\", \"13\", \"14\", \"15\", \"16\", \"17\", \"18\", \"19\", \"20\", \"21\", \"22\", \"23\", \"24\", \"25\", \"26\", \"27\", \"28\", \"29\", \"30\"], \"mode\": \"lines\", \"name\": \"normalized_median_absolute_error_min\", \"stepped\": true, \"type\": \"scatter\", \"data\": [0.05825864055964376, 0.03737732130487352, 0.023248013932681947, 0.023248013932681947, 0.01756292733958446, 0.01756292733958446, 0.01756292733958446, 0.01756292733958446, 0.01756292733958446, 0.01756292733958446, 0.01756292733958446, 0.01756292733958446, 0.01756292733958446, 0.01756292733958446, 0.01756292733958446, 0.01756292733958446, 0.01756292733958446, 0.01756292733958446, 0.01756292733958446, 0.01756292733958446, 0.01756292733958446, 0.01756292733958446, 0.01756292733958446, 0.01756292733958446, 0.01756292733958446, 0.01756292733958446, 0.01756292733958446, 0.01756292733958446, 0.01756292733958446, 0.01756292733958446, 0.01756292733958446]}], \"root_mean_squared_error\": [{\"categories\": [\"0\", \"1\", \"2\", \"3\", \"4\", \"5\", \"6\", \"7\", \"8\", \"9\", \"10\", \"11\", \"12\", \"13\", \"14\", \"15\", \"16\", \"17\", \"18\", \"19\", \"20\", \"21\", \"22\", \"23\", \"24\", \"25\", \"26\", \"27\", \"28\", \"29\", \"30\"], \"mode\": \"markers\", \"name\": \"root_mean_squared_error\", \"stepped\": false, \"type\": \"scatter\", \"data\": [6204.744174106592, 5165.494399120912, 5541.816306197866, 5351.114878621908, 5743.936163114369, 6423.975683403673, 5693.712646226957, 5222.261716045493, 5381.099573810131, 6418.082473960084, 6074.5584818254865, 6717.970366610022, 5466.524052934233, 5664.172973059283, 7028.226212163485, 5358.710399717753, 6415.91078617244, 6162.066038907253, 5169.66532738617, 5923.643626498704, 5632.658015304327, 6419.740402887388, 7618.343348414819, 6438.312082483113, 5291.876413255172, 8727.61365626945, 5931.270252424596, 6011.036076500246, 5393.870353312348, 4983.696422639659, 5054.181629010659]}, {\"categories\": [\"0\", \"1\", \"2\", \"3\", \"4\", \"5\", \"6\", \"7\", \"8\", \"9\", \"10\", \"11\", \"12\", \"13\", \"14\", \"15\", \"16\", \"17\", \"18\", \"19\", \"20\", \"21\", \"22\", \"23\", \"24\", \"25\", \"26\", \"27\", \"28\", \"29\", \"30\"], \"mode\": \"lines\", \"name\": \"root_mean_squared_error_min\", \"stepped\": true, \"type\": \"scatter\", \"data\": [6204.744174106592, 5165.494399120912, 5165.494399120912, 5165.494399120912, 5165.494399120912, 5165.494399120912, 5165.494399120912, 5165.494399120912, 5165.494399120912, 5165.494399120912, 5165.494399120912, 5165.494399120912, 5165.494399120912, 5165.494399120912, 5165.494399120912, 5165.494399120912, 5165.494399120912, 5165.494399120912, 5165.494399120912, 5165.494399120912, 5165.494399120912, 5165.494399120912, 5165.494399120912, 5165.494399120912, 5165.494399120912, 5165.494399120912, 5165.494399120912, 5165.494399120912, 5165.494399120912, 4983.696422639659, 4983.696422639659]}], \"normalized_root_mean_squared_log_error\": [{\"categories\": [\"0\", \"1\", \"2\", \"3\", \"4\", \"5\", \"6\", \"7\", \"8\", \"9\", \"10\", \"11\", \"12\", \"13\", \"14\", \"15\", \"16\", \"17\", \"18\", \"19\", \"20\", \"21\", \"22\", \"23\", \"24\", \"25\", \"26\", \"27\", \"28\", \"29\", \"30\"], \"mode\": \"markers\", \"name\": \"normalized_root_mean_squared_log_error\", \"stepped\": false, \"type\": \"scatter\", \"data\": [0.16699226394671848, 0.13758843811237298, 0.12868407983271143, 0.14163148836996625, 0.12944570408168224, NaN, 0.1525757945242996, 0.12538004650206064, 0.12239059130243646, NaN, 0.14839822616320453, 0.16037658127584037, 0.13289635553643855, 0.12913139797305834, 0.1750540266985437, 0.122625381319952, NaN, 0.17371373391546924, 0.1251709713251083, 0.14197207364242392, 0.14262658771843092, NaN, 0.18925798954323186, NaN, 0.13602710381825012, 0.17522442789733844, 0.1699341582893741, 0.15961539952994958, 0.12281217643775007, 0.12155189943624092, 0.12207009547411388]}, {\"categories\": [\"0\", \"1\", \"2\", \"3\", \"4\", \"5\", \"6\", \"7\", \"8\", \"9\", \"10\", \"11\", \"12\", \"13\", \"14\", \"15\", \"16\", \"17\", \"18\", \"19\", \"20\", \"21\", \"22\", \"23\", \"24\", \"25\", \"26\", \"27\", \"28\", \"29\", \"30\"], \"mode\": \"lines\", \"name\": \"normalized_root_mean_squared_log_error_min\", \"stepped\": true, \"type\": \"scatter\", \"data\": [0.16699226394671848, 0.13758843811237298, 0.12868407983271143, 0.12868407983271143, 0.12868407983271143, 0.12868407983271143, 0.12868407983271143, 0.12538004650206064, 0.12239059130243646, 0.12239059130243646, 0.12239059130243646, 0.12239059130243646, 0.12239059130243646, 0.12239059130243646, 0.12239059130243646, 0.12239059130243646, 0.12239059130243646, 0.12239059130243646, 0.12239059130243646, 0.12239059130243646, 0.12239059130243646, 0.12239059130243646, 0.12239059130243646, 0.12239059130243646, 0.12239059130243646, 0.12239059130243646, 0.12239059130243646, 0.12239059130243646, 0.12239059130243646, 0.12155189943624092, 0.12155189943624092]}]}, \"metricName\": null, \"primaryMetricName\": \"r2_score\", \"showLegend\": false}, \"run_metrics\": [{\"name\": \"experiment_status\", \"run_id\": \"AutoML_59ba7ab4-e9ec-4d94-960e-d59b2ca57c03\", \"categories\": [0, 1, 2, 3, 4, 5, 6, 7, 8, 9, 10, 11, 12, 13], \"series\": [{\"data\": [\"DatasetEvaluation\", \"FeaturesGeneration\", \"DatasetFeaturization\", \"DatasetFeaturizationCompleted\", \"DatasetCrossValidationSplit\", \"ModelSelection\", \"BestRunExplainModel\", \"ModelExplanationDataSetSetup\", \"PickSurrogateModel\", \"EngineeredFeatureExplanations\", \"EngineeredFeatureExplanations\", \"RawFeaturesExplanations\", \"RawFeaturesExplanations\", \"BestRunExplainModel\"]}]}, {\"name\": \"experiment_status_description\", \"run_id\": \"AutoML_59ba7ab4-e9ec-4d94-960e-d59b2ca57c03\", \"categories\": [0, 1, 2, 3, 4, 5, 6, 7, 8, 9, 10, 11, 12, 13], \"series\": [{\"data\": [\"Gathering dataset statistics.\", \"Generating features for the dataset.\", \"Beginning to fit featurizers and featurize the dataset.\", \"Completed fit featurizers and featurizing the dataset.\", \"Generating individually featurized CV splits.\", \"Beginning model selection.\", \"Best run model explanations started\", \"Model explanations data setup completed\", \"Choosing LightGBM as the surrogate model for explanations\", \"Computation of engineered features started\", \"Computation of engineered features completed\", \"Computation of raw features started\", \"Computation of raw features completed\", \"Best run model explanations completed\"]}]}, {\"name\": \"normalized_mean_absolute_error\", \"run_id\": \"AutoML_59ba7ab4-e9ec-4d94-960e-d59b2ca57c03\", \"categories\": [0], \"series\": [{\"data\": [0.049043314167954585]}]}, {\"name\": \"normalized_root_mean_squared_error\", \"run_id\": \"AutoML_59ba7ab4-e9ec-4d94-960e-d59b2ca57c03\", \"categories\": [0], \"series\": [{\"data\": [0.08107394524750786]}]}, {\"name\": \"normalized_root_mean_squared_log_error\", \"run_id\": \"AutoML_59ba7ab4-e9ec-4d94-960e-d59b2ca57c03\", \"categories\": [0], \"series\": [{\"data\": [0.12155189943624092]}]}, {\"name\": \"median_absolute_error\", \"run_id\": \"AutoML_59ba7ab4-e9ec-4d94-960e-d59b2ca57c03\", \"categories\": [0], \"series\": [{\"data\": [1823.2671916776205]}]}, {\"name\": \"root_mean_squared_log_error\", \"run_id\": \"AutoML_59ba7ab4-e9ec-4d94-960e-d59b2ca57c03\", \"categories\": [0], \"series\": [{\"data\": [0.48873296224613316]}]}, {\"name\": \"spearman_correlation\", \"run_id\": \"AutoML_59ba7ab4-e9ec-4d94-960e-d59b2ca57c03\", \"categories\": [0], \"series\": [{\"data\": [0.8675427995299396]}]}, {\"name\": \"r2_score\", \"run_id\": \"AutoML_59ba7ab4-e9ec-4d94-960e-d59b2ca57c03\", \"categories\": [0], \"series\": [{\"data\": [0.8348597823614415]}]}, {\"name\": \"normalized_median_absolute_error\", \"run_id\": \"AutoML_59ba7ab4-e9ec-4d94-960e-d59b2ca57c03\", \"categories\": [0], \"series\": [{\"data\": [0.029660607696356218]}]}, {\"name\": \"explained_variance\", \"run_id\": \"AutoML_59ba7ab4-e9ec-4d94-960e-d59b2ca57c03\", \"categories\": [0], \"series\": [{\"data\": [0.8368379378404066]}]}, {\"name\": \"mean_absolute_percentage_error\", \"run_id\": \"AutoML_59ba7ab4-e9ec-4d94-960e-d59b2ca57c03\", \"categories\": [0], \"series\": [{\"data\": [39.343747881393355]}]}, {\"name\": \"root_mean_squared_error\", \"run_id\": \"AutoML_59ba7ab4-e9ec-4d94-960e-d59b2ca57c03\", \"categories\": [0], \"series\": [{\"data\": [4983.696422639659]}]}, {\"name\": \"mean_absolute_error\", \"run_id\": \"AutoML_59ba7ab4-e9ec-4d94-960e-d59b2ca57c03\", \"categories\": [0], \"series\": [{\"data\": [3014.741525493252]}]}], \"run_logs\": \"\\nRun is completed.\", \"graph\": {}, \"widget_settings\": {\"childWidgetDisplay\": \"popup\", \"send_telemetry\": false, \"log_level\": \"INFO\", \"sdk_version\": \"1.21.0\"}, \"loading\": false}"
          },
          "metadata": {}
        }
      ],
      "execution_count": 26,
      "metadata": {
        "collapsed": true,
        "jupyter": {
          "source_hidden": false,
          "outputs_hidden": false
        },
        "nteract": {
          "transient": {
            "deleting": false
          }
        },
        "gather": {
          "logged": 1611691506407
        }
      }
    },
    {
      "cell_type": "markdown",
      "source": [
        "### Czas wykonywania eksperymetu/wybieranie najlepszego modelu"
      ],
      "metadata": {
        "nteract": {
          "transient": {
            "deleting": false
          }
        }
      }
    },
    {
      "cell_type": "code",
      "source": [
        "import time\r\n",
        "import datetime as dt\r\n",
        "\r\n",
        "run_details = run.get_details()\r\n",
        "\r\n",
        "# Like: 2020-01-12T23:11:56.292703Z\r\n",
        "end_time_utc_str = run_details['endTimeUtc'].split(\".\")[0]\r\n",
        "start_time_utc_str = run_details['startTimeUtc'].split(\".\")[0]\r\n",
        "timestamp_end = time.mktime(datetime.strptime(end_time_utc_str, \"%Y-%m-%dT%H:%M:%S\").timetuple())\r\n",
        "timestamp_start = time.mktime(datetime.strptime(start_time_utc_str, \"%Y-%m-%dT%H:%M:%S\").timetuple())\r\n",
        "\r\n",
        "parent_run_time = timestamp_end - timestamp_start\r\n",
        "print('Run Timing: --- %s seconds needed for running the whole Remote AutoML Experiment ---' % (parent_run_time))"
      ],
      "outputs": [
        {
          "output_type": "stream",
          "name": "stdout",
          "text": [
            "Run Timing: --- 2192.0 seconds needed for running the whole Remote AutoML Experiment ---\n"
          ]
        }
      ],
      "execution_count": 27,
      "metadata": {
        "collapsed": true,
        "jupyter": {
          "source_hidden": false,
          "outputs_hidden": false
        },
        "nteract": {
          "transient": {
            "deleting": false
          }
        },
        "gather": {
          "logged": 1611691517330
        }
      }
    },
    {
      "cell_type": "code",
      "source": [
        "pip show azureml-sdk"
      ],
      "outputs": [
        {
          "output_type": "stream",
          "name": "stdout",
          "text": [
            "Name: azureml-sdk\r\n",
            "Version: 1.21.0\r\n",
            "Summary: Microsoft Azure Machine Learning Python SDK\r\n",
            "Home-page: https://docs.microsoft.com/python/api/overview/azure/ml/?view=azure-ml-py\r\n",
            "Author: Microsoft Corp\r\n",
            "Author-email: None\r\n",
            "License: https://aka.ms/azureml-sdk-license\r\n",
            "Location: /anaconda/envs/azureml_py36/lib/python3.6/site-packages\r\n",
            "Requires: azureml-train, azureml-core, azureml-pipeline, azureml-train-automl-client, azureml-dataset-runtime\r\n",
            "Required-by: \r\n",
            "Note: you may need to restart the kernel to use updated packages.\n"
          ]
        }
      ],
      "execution_count": 28,
      "metadata": {
        "collapsed": true,
        "jupyter": {
          "source_hidden": false,
          "outputs_hidden": false
        },
        "nteract": {
          "transient": {
            "deleting": false
          }
        },
        "gather": {
          "logged": 1611691527737
        }
      }
    },
    {
      "cell_type": "markdown",
      "source": [
        "### Pobranie najlepszego modelu\r\n",
        "Z wcześniej przeprowadzonego eksperymentu pobieramy teraz model, który uzyskał najlepsze wyniki."
      ],
      "metadata": {
        "nteract": {
          "transient": {
            "deleting": false
          }
        }
      }
    },
    {
      "cell_type": "code",
      "source": [
        "best_run, fitted_model = run.get_output()\r\n",
        "print(best_run)\r\n",
        "print(fitted_model)"
      ],
      "outputs": [
        {
          "output_type": "error",
          "ename": "ModuleNotFoundError",
          "evalue": "No module named 'azureml.automl.runtime._ml_engine.featurizer_suggestion'",
          "traceback": [
            "\u001b[0;31m---------------------------------------------------------------------------\u001b[0m",
            "\u001b[0;31mModuleNotFoundError\u001b[0m                       Traceback (most recent call last)",
            "\u001b[0;32m<ipython-input-29-161599dc225e>\u001b[0m in \u001b[0;36m<module>\u001b[0;34m\u001b[0m\n\u001b[0;32m----> 1\u001b[0;31m \u001b[0mbest_run\u001b[0m\u001b[0;34m,\u001b[0m \u001b[0mfitted_model\u001b[0m \u001b[0;34m=\u001b[0m \u001b[0mrun\u001b[0m\u001b[0;34m.\u001b[0m\u001b[0mget_output\u001b[0m\u001b[0;34m(\u001b[0m\u001b[0;34m)\u001b[0m\u001b[0;34m\u001b[0m\u001b[0;34m\u001b[0m\u001b[0m\n\u001b[0m\u001b[1;32m      2\u001b[0m \u001b[0mprint\u001b[0m\u001b[0;34m(\u001b[0m\u001b[0mbest_run\u001b[0m\u001b[0;34m)\u001b[0m\u001b[0;34m\u001b[0m\u001b[0;34m\u001b[0m\u001b[0m\n\u001b[1;32m      3\u001b[0m \u001b[0mprint\u001b[0m\u001b[0;34m(\u001b[0m\u001b[0mfitted_model\u001b[0m\u001b[0;34m)\u001b[0m\u001b[0;34m\u001b[0m\u001b[0;34m\u001b[0m\u001b[0m\n",
            "\u001b[0;32m/anaconda/envs/azureml_py36/lib/python3.6/site-packages/azureml/train/automl/run.py\u001b[0m in \u001b[0;36mget_output\u001b[0;34m(self, iteration, metric, return_onnx_model, return_split_onnx_model, **kwargs)\u001b[0m\n\u001b[1;32m    697\u001b[0m                     \u001b[0mfitted_model\u001b[0m \u001b[0;34m=\u001b[0m \u001b[0m_download_automl_onnx_model\u001b[0m\u001b[0;34m(\u001b[0m\u001b[0mcurr_run\u001b[0m\u001b[0;34m,\u001b[0m \u001b[0mmodel_name\u001b[0m\u001b[0;34m)\u001b[0m\u001b[0;34m\u001b[0m\u001b[0;34m\u001b[0m\u001b[0m\n\u001b[1;32m    698\u001b[0m                 \u001b[0;32melse\u001b[0m\u001b[0;34m:\u001b[0m\u001b[0;34m\u001b[0m\u001b[0;34m\u001b[0m\u001b[0m\n\u001b[0;32m--> 699\u001b[0;31m                     \u001b[0mfitted_model\u001b[0m \u001b[0;34m=\u001b[0m \u001b[0m_download_automl_model\u001b[0m\u001b[0;34m(\u001b[0m\u001b[0mcurr_run\u001b[0m\u001b[0;34m,\u001b[0m \u001b[0mmodel_name\u001b[0m\u001b[0;34m)\u001b[0m\u001b[0;34m\u001b[0m\u001b[0;34m\u001b[0m\u001b[0m\n\u001b[0m\u001b[1;32m    700\u001b[0m \u001b[0;34m\u001b[0m\u001b[0m\n\u001b[1;32m    701\u001b[0m             \u001b[0;32mreturn\u001b[0m \u001b[0mcurr_run\u001b[0m\u001b[0;34m,\u001b[0m \u001b[0mfitted_model\u001b[0m\u001b[0;34m\u001b[0m\u001b[0;34m\u001b[0m\u001b[0m\n",
            "\u001b[0;32m/anaconda/envs/azureml_py36/lib/python3.6/site-packages/azureml/train/automl/_model_download_utilities.py\u001b[0m in \u001b[0;36m_download_automl_model\u001b[0;34m(run, model_name)\u001b[0m\n\u001b[1;32m     85\u001b[0m             \u001b[0;31m# Pass through any exceptions from loading the model.\u001b[0m\u001b[0;34m\u001b[0m\u001b[0;34m\u001b[0m\u001b[0;34m\u001b[0m\u001b[0m\n\u001b[1;32m     86\u001b[0m             \u001b[0;31m# Try is used here to ensure we can cleanup the side effect of model downlad.\u001b[0m\u001b[0;34m\u001b[0m\u001b[0;34m\u001b[0m\u001b[0;34m\u001b[0m\u001b[0m\n\u001b[0;32m---> 87\u001b[0;31m             \u001b[0mmodel\u001b[0m \u001b[0;34m=\u001b[0m \u001b[0m_load_automl_model\u001b[0m\u001b[0;34m(\u001b[0m\u001b[0mmodel_path\u001b[0m\u001b[0;34m)\u001b[0m\u001b[0;34m\u001b[0m\u001b[0;34m\u001b[0m\u001b[0m\n\u001b[0m\u001b[1;32m     88\u001b[0m             \u001b[0;32mif\u001b[0m \u001b[0mmodel\u001b[0m \u001b[0;32mis\u001b[0m \u001b[0;32mNone\u001b[0m\u001b[0;34m:\u001b[0m\u001b[0;34m\u001b[0m\u001b[0;34m\u001b[0m\u001b[0m\n\u001b[1;32m     89\u001b[0m                 \u001b[0;31m# If we can retrieve the automl runtime version, we do so we can inform the user what to install.\u001b[0m\u001b[0;34m\u001b[0m\u001b[0;34m\u001b[0m\u001b[0;34m\u001b[0m\u001b[0m\n",
            "\u001b[0;32m/anaconda/envs/azureml_py36/lib/python3.6/site-packages/azureml/train/automl/_model_download_utilities.py\u001b[0m in \u001b[0;36m_load_automl_model\u001b[0;34m(model_path)\u001b[0m\n\u001b[1;32m    151\u001b[0m         \u001b[0;32mimport\u001b[0m \u001b[0mazureml\u001b[0m\u001b[0;34m.\u001b[0m\u001b[0mtrain\u001b[0m\u001b[0;34m.\u001b[0m\u001b[0mautoml\u001b[0m\u001b[0;34m.\u001b[0m\u001b[0mruntime\u001b[0m\u001b[0;34m\u001b[0m\u001b[0;34m\u001b[0m\u001b[0m\n\u001b[1;32m    152\u001b[0m         \u001b[0;32mwith\u001b[0m \u001b[0mopen\u001b[0m\u001b[0;34m(\u001b[0m\u001b[0mmodel_path\u001b[0m\u001b[0;34m,\u001b[0m \u001b[0;34m\"rb\"\u001b[0m\u001b[0;34m)\u001b[0m \u001b[0;32mas\u001b[0m \u001b[0mmodel_file\u001b[0m\u001b[0;34m:\u001b[0m\u001b[0;34m\u001b[0m\u001b[0;34m\u001b[0m\u001b[0m\n\u001b[0;32m--> 153\u001b[0;31m             \u001b[0mfitted_model\u001b[0m \u001b[0;34m=\u001b[0m \u001b[0mpickle\u001b[0m\u001b[0;34m.\u001b[0m\u001b[0mload\u001b[0m\u001b[0;34m(\u001b[0m\u001b[0mmodel_file\u001b[0m\u001b[0;34m)\u001b[0m  \u001b[0;31m# type: Optional[Any]\u001b[0m\u001b[0;34m\u001b[0m\u001b[0;34m\u001b[0m\u001b[0m\n\u001b[0m\u001b[1;32m    154\u001b[0m             \u001b[0;32mreturn\u001b[0m \u001b[0mfitted_model\u001b[0m\u001b[0;34m\u001b[0m\u001b[0;34m\u001b[0m\u001b[0m\n\u001b[1;32m    155\u001b[0m     \u001b[0;32mexcept\u001b[0m \u001b[0mImportError\u001b[0m \u001b[0;32mas\u001b[0m \u001b[0me\u001b[0m\u001b[0;34m:\u001b[0m\u001b[0;34m\u001b[0m\u001b[0;34m\u001b[0m\u001b[0m\n",
            "\u001b[0;31mModuleNotFoundError\u001b[0m: No module named 'azureml.automl.runtime._ml_engine.featurizer_suggestion'"
          ]
        }
      ],
      "execution_count": 29,
      "metadata": {
        "collapsed": true,
        "jupyter": {
          "source_hidden": false,
          "outputs_hidden": false
        },
        "nteract": {
          "transient": {
            "deleting": false
          }
        }
      }
    },
    {
      "cell_type": "markdown",
      "source": [
        "### Przygotowanie zbioru testowego\r\n",
        "Aby sprawdzić skuteczność działania naszego modelu musimy na początku wyodrębnić z niego kolumnę ***charges***, tak aby nie mogła posłużyć on jako jedna ze zmiennych dla naszego modelu."
      ],
      "metadata": {
        "nteract": {
          "transient": {
            "deleting": false
          }
        }
      }
    },
    {
      "cell_type": "code",
      "source": [
        "import pandas as pd\r\n",
        "\r\n",
        "#Remove Label/y column\r\n",
        "if 'charges' in test_dataset_df.columns:\r\n",
        "    y_test_df = test_dataset_df.pop('charges')\r\n",
        "\r\n",
        "x_test_df = test_dataset_df"
      ],
      "outputs": [],
      "execution_count": null,
      "metadata": {
        "collapsed": true,
        "jupyter": {
          "source_hidden": false,
          "outputs_hidden": false
        },
        "nteract": {
          "transient": {
            "deleting": false
          }
        }
      }
    },
    {
      "cell_type": "markdown",
      "source": [
        "### Wyznaczenie ceny ubezpieczenia dla rekordów w zbiorze testowym\r\n"
      ],
      "metadata": {
        "nteract": {
          "transient": {
            "deleting": false
          }
        }
      }
    },
    {
      "cell_type": "code",
      "source": [
        "# Try the best model\r\n",
        "y_predictions = fitted_model.predict(x_test_df)\r\n",
        "\r\n",
        "print('10 predictions: ')\r\n",
        "print(y_predictions[:10])"
      ],
      "outputs": [],
      "execution_count": null,
      "metadata": {
        "collapsed": true,
        "jupyter": {
          "source_hidden": false,
          "outputs_hidden": false
        },
        "nteract": {
          "transient": {
            "deleting": false
          }
        }
      }
    },
    {
      "cell_type": "code",
      "source": [
        "y_predictions.shape"
      ],
      "outputs": [],
      "execution_count": null,
      "metadata": {
        "collapsed": true,
        "jupyter": {
          "source_hidden": false,
          "outputs_hidden": false
        },
        "nteract": {
          "transient": {
            "deleting": false
          }
        }
      }
    },
    {
      "cell_type": "markdown",
      "source": [
        "### Metryki dla zbioru testowego\r\n",
        "Metryki przedstawiające skuteczność działania nauczonego modelu regresji służącego do wyznaczania ceny ubezpieczenia"
      ],
      "metadata": {
        "nteract": {
          "transient": {
            "deleting": false
          }
        }
      }
    },
    {
      "cell_type": "code",
      "source": [
        "from sklearn.metrics import r2_score, mean_squared_error, mean_absolute_percentage_error\r\n",
        "\r\n",
        "print(f'R^2 (coefficient of determination) regression score:  {r2_score(y_test_df, y_predictions)}')\r\n",
        "print(f'Mean squared error regression loss:  {mean_squared_error(y_test_df, y_predictions)}')\r\n",
        "print(f'Mean absolute percentage error regression loss:  {mean_absolute_percentage_error(y_test_df, y_predictions)}')\r\n"
      ],
      "outputs": [],
      "execution_count": null,
      "metadata": {
        "collapsed": true,
        "jupyter": {
          "source_hidden": false,
          "outputs_hidden": false
        },
        "nteract": {
          "transient": {
            "deleting": false
          }
        }
      }
    }
  ],
  "metadata": {
    "kernelspec": {
      "name": "python3-azureml",
      "language": "python",
      "display_name": "Python 3.6 - AzureML"
    },
    "language_info": {
      "name": "python",
      "version": "3.6.9",
      "mimetype": "text/x-python",
      "codemirror_mode": {
        "name": "ipython",
        "version": 3
      },
      "pygments_lexer": "ipython3",
      "nbconvert_exporter": "python",
      "file_extension": ".py"
    },
    "kernel_info": {
      "name": "python3-azureml"
    },
    "nteract": {
      "version": "nteract-front-end@1.0.0"
    }
  },
  "nbformat": 4,
  "nbformat_minor": 2
}